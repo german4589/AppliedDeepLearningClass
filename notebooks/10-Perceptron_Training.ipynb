{
 "cells": [
  {
   "cell_type": "markdown",
   "metadata": {
    "nbpresent": {
     "id": "4e866e13-925b-49e7-993f-9eab8c71f4b9"
    },
    "slideshow": {
     "slide_type": "slide"
    }
   },
   "source": [
    "# 10 - Perceptron Training\n",
    "\n",
    "by [Fabio A. González](http://dis.unal.edu.co/~fgonza/), Universidad Nacional de Colombia\n",
    "\n",
    "version 1.0, June 2018\n",
    "\n",
    "## Part of the class [Applied Deep Learning](https://github.com/albahnsen/AppliedDeepLearningClass)\n",
    "\n",
    "\n",
    "This notebook is licensed under a [Creative Commons Attribution-ShareAlike 3.0 Unported License](http://creativecommons.org/licenses/by-sa/3.0/deed.en_US). \n",
    "\n"
   ]
  },
  {
   "cell_type": "code",
   "execution_count": 1,
   "metadata": {
    "nbpresent": {
     "id": "f70b9b47-2e91-4d33-b0cf-589d66ca89da"
    },
    "slideshow": {
     "slide_type": "skip"
    }
   },
   "outputs": [],
   "source": [
    "import numpy as np\n",
    "import pylab as pl\n",
    "from sklearn.datasets.samples_generator import make_blobs\n",
    "\n",
    "%matplotlib inline\n",
    "\n",
    "def plot_data(X, y):\n",
    "    y_unique = np.unique(y)\n",
    "    colors = pl.cm.rainbow(np.linspace(0.0, 1.0, y_unique.size))\n",
    "    for this_y, color in zip(y_unique, colors):\n",
    "        this_X = X[y == this_y]\n",
    "        pl.scatter(this_X[:, 0], this_X[:, 1],  c=color,\n",
    "                    alpha=0.5, edgecolor='k',\n",
    "                    label=\"Class %s\" % this_y)\n",
    "    pl.legend(loc=\"best\")\n",
    "    pl.title(\"Data\")\n",
    "    \n",
    "def plot_decision_region(X, pred_fun):\n",
    "    min_x = np.min(X[:, 0])\n",
    "    max_x = np.max(X[:, 0])\n",
    "    min_y = np.min(X[:, 1])\n",
    "    max_y = np.max(X[:, 1])\n",
    "    min_x = min_x - (max_x - min_x) * 0.05\n",
    "    max_x = max_x + (max_x - min_x) * 0.05\n",
    "    min_y = min_y - (max_y - min_y) * 0.05\n",
    "    max_y = max_y + (max_y - min_y) * 0.05\n",
    "    x_vals = np.linspace(min_x, max_x, 30)\n",
    "    y_vals = np.linspace(min_y, max_y, 30)\n",
    "    XX, YY = np.meshgrid(x_vals, y_vals)\n",
    "    grid_r, grid_c = XX.shape\n",
    "    ZZ = np.zeros((grid_r, grid_c))\n",
    "    for i in range(grid_r):\n",
    "        for j in range(grid_c):\n",
    "            ZZ[i, j] = pred_fun(XX[i, j], YY[i, j])\n",
    "    pl.contourf(XX, YY, ZZ, 30, cmap = pl.cm.coolwarm, vmin= -1, vmax=2)\n",
    "    pl.colorbar()\n",
    "    pl.xlabel(\"x\")\n",
    "    pl.ylabel(\"y\")"
   ]
  },
  {
   "cell_type": "markdown",
   "metadata": {
    "nbpresent": {
     "id": "ae3e8f80-4d56-4e23-ab6b-efeb7d4b54c5"
    },
    "slideshow": {
     "slide_type": "slide"
    }
   },
   "source": [
    "## Two Class Classification Problem"
   ]
  },
  {
   "cell_type": "code",
   "execution_count": 12,
   "metadata": {
    "nbpresent": {
     "id": "01087888-4843-4c4e-9f83-f2e07e78b9db"
    },
    "scrolled": false,
    "slideshow": {
     "slide_type": "fragment"
    }
   },
   "outputs": [
    {
     "data": {
      "image/png": "[encoded data removed]",
      "text/plain": [
       "<Figure size 576x432 with 1 Axes>"
      ]
     },
     "metadata": {},
     "output_type": "display_data"
    }
   ],
   "source": [
    "X, Y = make_blobs(n_samples=100, centers=2, n_features=2, random_state=0)\n",
    "pl.figure(figsize=(8, 6))\n",
    "plot_data(X, Y)"
   ]
  },
  {
   "cell_type": "markdown",
   "metadata": {
    "nbpresent": {
     "id": "5e8390b7-c3e8-42c6-b62c-b2ed348bc019"
    },
    "slideshow": {
     "slide_type": "subslide"
    }
   },
   "source": [
    "## How to solve it?\n",
    "\n",
    "* We need to design a prediction function $f:\\mathbb{R}^{2}\\rightarrow\\mathbb{R}$ such that:\n",
    "\n",
    "$$\\textrm{Prediction}(x)=\\begin{cases}\n",
    "C_{1} & \\mbox{si }f(x)\\ge \\theta\\\\\n",
    "C_{2} & \\mbox{si }f(x)<\\theta\n",
    "\\end{cases}$$\n",
    "\n",
    "* Here we will model $f$ as a logistic model with parameters $w$ and $w_0$:\n",
    "\n",
    "$$f_w(x) = P(C_1|x)= \\sigma(wx+w_0)$$\n",
    "\n",
    "where \n",
    "$$\\sigma(x) = \\frac{1}{1+e^{-x}}$$\n",
    "\n"
   ]
  },
  {
   "cell_type": "markdown",
   "metadata": {
    "slideshow": {
     "slide_type": "subslide"
    }
   },
   "source": [
    "## Perceptron\n",
    "\n",
    "This model corresponds to a perceptron or logistic regression model\n",
    "\n",
    "$$f_w(x,y) = P(C_1|x)= \\sigma(wx+w_0)$$\n",
    "\n",
    "where \n",
    "$$\\sigma(x) = \\frac{1}{1+e^{-x}}$$\n"
   ]
  },
  {
   "cell_type": "code",
   "execution_count": 13,
   "metadata": {
    "nbpresent": {
     "id": "6db91f20-6e25-481b-afc2-8732947cdba9"
    },
    "slideshow": {
     "slide_type": "fragment"
    }
   },
   "outputs": [],
   "source": [
    "def sigmoid(x):\n",
    "    return 1.0/(1.0 + np.exp(-x))\n",
    "\n",
    "def predict(w, x):\n",
    "    a = np.dot(w[1:], x) + w[0]\n",
    "    z = sigmoid(a)\n",
    "    return z"
   ]
  },
  {
   "cell_type": "markdown",
   "metadata": {
    "nbpresent": {
     "id": "6768ddd9-fb81-486d-b38b-d02b915cffe7"
    },
    "slideshow": {
     "slide_type": "slide"
    }
   },
   "source": [
    "## Learning as optimization\n",
    "\n",
    "* General optimization problem:\n",
    "$$\\min_{f\\in H}L(f,D)$$\n",
    "* Hypothesis space: \n",
    "$$H=\\{f_w(x,y)=\\sigma(wx+w_0),\\forall w\\in\\mathbb{R}^n and w_0\\in\\mathbb{R}\\}$$\n",
    "* Cross entropy loss function:\n",
    "$$L(f,D)=\\sum_{(x_{i},r_{i})\\in D} -r_i\\log(f(x_i)) -(1-r_i)\\log(1 - f(x_i))$$\n",
    "* Measures the likelihood of the the probabilistic model represented by $f$ given the data $D$.\n"
   ]
  },
  {
   "cell_type": "markdown",
   "metadata": {
    "slideshow": {
     "slide_type": "subslide"
    }
   },
   "source": [
    "## Calculating the cross entropy loss"
   ]
  },
  {
   "cell_type": "code",
   "execution_count": 14,
   "metadata": {
    "nbpresent": {
     "id": "bbbdaed3-8c0f-4ae1-be9c-0f138f398f3c"
    },
    "slideshow": {
     "slide_type": "fragment"
    }
   },
   "outputs": [],
   "source": [
    "def xentropy_loss(w, x, y):\n",
    "    return - y * np.log(predict(w, x)) - (1 - y) * np.log(1 - predict(w, x))\n",
    "\n",
    "def batch_loss(loss_fun, w, X, Y, ):\n",
    "    n = X.shape[0]\n",
    "    tot_loss = 0\n",
    "    for i in range(n):\n",
    "        tot_loss += loss_fun(w, X[i], Y[i])\n",
    "    return tot_loss"
   ]
  },
  {
   "cell_type": "code",
   "execution_count": 15,
   "metadata": {
    "slideshow": {
     "slide_type": "skip"
    }
   },
   "outputs": [],
   "source": [
    "def plot_loss(loss):\n",
    "    w1_vals = np.linspace(-2, 2, 30)\n",
    "    w2_vals = np.linspace(-2, 2, 30)\n",
    "    W1, W2 = np.meshgrid(w1_vals, w2_vals)\n",
    "    grid_r, grid_c = W1.shape\n",
    "    ZZ = np.zeros((grid_r, grid_c))\n",
    "    for i in range(grid_r):\n",
    "        for j in range(grid_c):\n",
    "            ZZ[i, j] = loss(W1[i, j], W2[i, j])\n",
    "    pl.contourf(W1, W2, ZZ,30, cmap = pl.cm.jet)\n",
    "    pl.colorbar()\n",
    "    pl.xlabel(\"w1\")\n",
    "    pl.ylabel(\"w2\")\n",
    "\n",
    "def bloss_xe(w1, w2):\n",
    "    w = np.array([1, w1, w2])\n",
    "    return batch_loss(xentropy_loss, w, X, Y)"
   ]
  },
  {
   "cell_type": "code",
   "execution_count": 16,
   "metadata": {
    "nbpresent": {
     "id": "41e5aad4-81e9-4746-a765-afd3c6b8c35e"
    },
    "slideshow": {
     "slide_type": "fragment"
    }
   },
   "outputs": [
    {
     "data": {
      "image/png": "[encoded data removed]",
      "text/plain": [
       "<Figure size 432x288 with 2 Axes>"
      ]
     },
     "metadata": {},
     "output_type": "display_data"
    }
   ],
   "source": [
    "plot_loss(bloss_xe)"
   ]
  },
  {
   "cell_type": "markdown",
   "metadata": {
    "nbpresent": {
     "id": "c8b462fd-2547-4a9b-8149-6f4d39550050"
    },
    "slideshow": {
     "slide_type": "subslide"
    }
   },
   "source": [
    "## Other loss fuctions\n",
    "\n",
    "* There are several different loss functions.\n",
    "\n",
    "* $L_1$ loss:\n",
    "\n",
    "$$ L_1(f, D) =\\sum_{(x_{i},r_{i})\\in D} |r_i - f(x_i)| $$\n",
    "\n",
    "* $L_2$ loss:\n",
    "\n",
    "$$ L_2(f, D) =\\sum_{(x_{i},r_{i})\\in D} (r_i - f(x_i))^2 $$"
   ]
  },
  {
   "cell_type": "code",
   "execution_count": 17,
   "metadata": {
    "slideshow": {
     "slide_type": "skip"
    }
   },
   "outputs": [],
   "source": [
    "def l1_loss(w, x, y):\n",
    "    return np.abs(y - predict(w, x))\n",
    "\n",
    "def loss1(w1, w2):\n",
    "    w = np.array([1, w1, w2])\n",
    "    return batch_loss(l1_loss, w, X, Y)\n",
    "\n",
    "def l2_loss(w, x, y):\n",
    "    return (y - predict(w, x)) ** 2 / 2\n",
    "\n",
    "def loss2(w1, w2):\n",
    "    w = np.array([1, w1, w2])\n",
    "    return batch_loss(l2_loss, w, X, Y)"
   ]
  },
  {
   "cell_type": "code",
   "execution_count": 18,
   "metadata": {
    "nbpresent": {
     "id": "a81c4f37-a316-4bdf-83a7-ba89439b4b46"
    },
    "scrolled": true,
    "slideshow": {
     "slide_type": "subslide"
    }
   },
   "outputs": [
    {
     "data": {
      "image/png": "[encoded data removed]",
      "text/plain": [
       "<Figure size 1080x360 with 6 Axes>"
      ]
     },
     "metadata": {},
     "output_type": "display_data"
    }
   ],
   "source": [
    "pl.figure(figsize = (15,5))\n",
    "pl.subplot(1,3,1); plot_loss(bloss_xe); pl.title(\"XE loss\")\n",
    "pl.subplot(1,3,2); pl.title(\"L1 loss\"); plot_loss(loss1)\n",
    "pl.subplot(1,3,3); pl.title(\"L2 loss\"); plot_loss(loss2)"
   ]
  },
  {
   "cell_type": "markdown",
   "metadata": {
    "slideshow": {
     "slide_type": "slide"
    }
   },
   "source": [
    "## How to solve the learning problem? \n",
    "\n",
    "* There are different optimization strategies:\n",
    "  * Linear optimization\n",
    "  * Convex optimization\n",
    "  * Non-linear optimization\n",
    "  * Combinatorial optimization\n",
    "* No unique optimization strategy that works for all the problems: \"no free lunch theorem\""
   ]
  },
  {
   "cell_type": "markdown",
   "metadata": {
    "nbpresent": {
     "id": "9181e0ff-723e-42a8-9bf9-0a5cdab491da"
    },
    "slideshow": {
     "slide_type": "subslide"
    }
   },
   "source": [
    "## How to solve the learning problem?  (cont.)\n",
    "\n",
    "* Trade-offs:\n",
    "  * Global optimum guarantee\n",
    "  * Simplicity of the method\n",
    "  * Easy parameter tuning\n",
    "  * Scalability\n",
    "  * Potential parallelization\n",
    "* In machine learning preferences change over time.\n",
    "* Nowadays scalable, easy parallelizable strategies are preferred even at the expense of guaranteed optimality."
   ]
  },
  {
   "cell_type": "markdown",
   "metadata": {
    "nbpresent": {
     "id": "11fad196-4f7d-44c8-a026-89b90ac7a3f1"
    },
    "slideshow": {
     "slide_type": "subslide"
    }
   },
   "source": [
    "## Gradient descent\n",
    "<center> <img src=\"https://s3-ap-south-1.amazonaws.com/av-blog-media/wp-content/uploads/2017/03/06100746/grad.png\"></center>"
   ]
  },
  {
   "cell_type": "markdown",
   "metadata": {
    "nbpresent": {
     "id": "4d4a5e57-fa37-485c-b7ae-36538d99a900"
    },
    "slideshow": {
     "slide_type": "subslide"
    }
   },
   "source": [
    "## Logistic regression gradient\n",
    "\n",
    "$$\n",
    "\\begin{aligned}L(f,D) & = \\sum_{(x_{i},r_{i})\\in D} -r_i\\log(f(x_i)) -(1-r_i)\\log(1 - f(x_i))\\\\\n",
    " & =\\sum_{(x_{i},r_{i})\\in D}E(w, x_i, r_i)\n",
    "\\end{aligned}\n",
    "$$\n",
    "If $f_w$ is the sigmoid function:\n",
    "$$\n",
    "\\frac{\\partial E(w,x_{i,}r_{i})}{\\partial w}=(f_{w}(x_{i})-r_{i})x_{i}\n",
    "$$\n"
   ]
  },
  {
   "cell_type": "code",
   "execution_count": 20,
   "metadata": {
    "nbpresent": {
     "id": "7886b220-5bcb-40ef-ba43-5a076a1db993"
    },
    "slideshow": {
     "slide_type": "fragment"
    }
   },
   "outputs": [],
   "source": [
    "def de_dw(w, x, r):\n",
    "    x_prime = np.zeros(len(x) + 1)\n",
    "    x_prime[1:] = x\n",
    "    x_prime[0] = 1\n",
    "    return (predict(w, x) - r) * x_prime"
   ]
  },
  {
   "cell_type": "markdown",
   "metadata": {
    "nbpresent": {
     "id": "1894d6f9-e16d-47dd-85c0-50b0d0943a57"
    },
    "slideshow": {
     "slide_type": "subslide"
    }
   },
   "source": [
    "## Checking the gradient calculation\n",
    "\n",
    "*\"During the last twenty years, I have often been approached for advice in setting the learning rates γt of some rebellious stochastic gradient descent program. My advice is to forget about the learning rates and check that the gradients are computed correctly.\"* \n",
    "\n",
    "**Bottou, L.** (2012). *Stochastic gradient descent tricks*. In Neural networks: Tricks of the trade (pp. 421-436). Springer Berlin Heidelberg."
   ]
  },
  {
   "cell_type": "markdown",
   "metadata": {
    "slideshow": {
     "slide_type": "subslide"
    }
   },
   "source": [
    "## Checking the gradient calculation"
   ]
  },
  {
   "cell_type": "code",
   "execution_count": 41,
   "metadata": {
    "nbpresent": {
     "id": "634081e4-ee1e-48c7-84e3-e0032eda04fb"
    },
    "slideshow": {
     "slide_type": "fragment"
    }
   },
   "outputs": [],
   "source": [
    "def num_de_dw(w, x, y, epsilon):\n",
    "    deltas = np.identity(len(w)) * epsilon\n",
    "    de = np.zeros(len(w))\n",
    "    for i in range(len(w)):\n",
    "        de[i] = (xentropy_loss(w + deltas[i, :], x, y) - xentropy_loss(w - deltas[i, :], x, y)) / (2 * epsilon)\n",
    "    return de\n",
    "\n",
    "def test_de_dw():\n",
    "    num_tests = 100\n",
    "    epsilon = 0.0001\n",
    "    for i in range(num_tests):\n",
    "        tw = np.random.randn(3)\n",
    "        tx = np.random.randn(2)\n",
    "        ty = np.random.randn(1)\n",
    "        if np.linalg.norm(de_dw(tw, tx,ty) - num_de_dw(tw, tx, ty, epsilon)) > epsilon:\n",
    "            raise Exception(\"de_dw test failed!\")"
   ]
  },
  {
   "cell_type": "code",
   "execution_count": 43,
   "metadata": {
    "nbpresent": {
     "id": "8a835570-cb03-4a4f-930d-e9cc9678fde5"
    },
    "slideshow": {
     "slide_type": "fragment"
    }
   },
   "outputs": [],
   "source": [
    "test_de_dw()"
   ]
  },
  {
   "cell_type": "markdown",
   "metadata": {
    "nbpresent": {
     "id": "33fdd4cf-30c1-4c23-aef4-962f8cc86d64"
    },
    "slideshow": {
     "slide_type": "subslide"
    }
   },
   "source": [
    "## Batch gradient descent"
   ]
  },
  {
   "cell_type": "code",
   "execution_count": 44,
   "metadata": {
    "nbpresent": {
     "id": "9b5f7e3d-3d8d-43e7-b38c-1a51a260d3d6"
    },
    "slideshow": {
     "slide_type": "fragment"
    }
   },
   "outputs": [],
   "source": [
    "def batch_gd(X, Y, epochs, eta, w_ini):\n",
    "    losses = []\n",
    "    w = w_ini\n",
    "    n = X.shape[0]\n",
    "    for i in range(epochs):\n",
    "        delta = np.zeros(len(w))\n",
    "        for j in range(n):\n",
    "            delta += de_dw(w, X[j], Y[j])\n",
    "        w = w - eta * delta\n",
    "        losses.append(batch_loss(xentropy_loss,w, X, Y))\n",
    "    return w, losses"
   ]
  },
  {
   "cell_type": "code",
   "execution_count": 45,
   "metadata": {
    "nbpresent": {
     "id": "758216b6-25a9-46be-ad80-1ff11fd8a8c5"
    },
    "slideshow": {
     "slide_type": "subslide"
    }
   },
   "outputs": [
    {
     "data": {
      "text/plain": [
       "[<matplotlib.lines.Line2D at 0x109548b00>]"
      ]
     },
     "execution_count": 45,
     "metadata": {},
     "output_type": "execute_result"
    },
    {
     "data": {
      "image/png": "[encoded data removed]",
      "text/plain": [
       "<Figure size 576x384 with 1 Axes>"
      ]
     },
     "metadata": {},
     "output_type": "display_data"
    }
   ],
   "source": [
    "w, losses = batch_gd(X, Y, 50, 0.01, np.array([0, 0, 0]))\n",
    "pl.figure(figsize = (8,16/3))\n",
    "pl.plot(losses)"
   ]
  },
  {
   "cell_type": "markdown",
   "metadata": {
    "nbpresent": {
     "id": "5bd23afa-4ef8-4d51-83fa-08e158c1f43c"
    },
    "slideshow": {
     "slide_type": "subslide"
    }
   },
   "source": [
    "## Online (stochastic) gradient descent"
   ]
  },
  {
   "cell_type": "code",
   "execution_count": 46,
   "metadata": {
    "nbpresent": {
     "id": "f9f0397f-e754-4283-9968-ba13034c9ce4"
    },
    "slideshow": {
     "slide_type": "fragment"
    }
   },
   "outputs": [],
   "source": [
    "def sgd(X, Y, epochs, eta, w_ini):\n",
    "    losses = []\n",
    "    w = w_ini\n",
    "    n = X.shape[0]\n",
    "    for i in range(epochs):\n",
    "        for j in range(n):\n",
    "            delta = de_dw(w, X[j], Y[j])\n",
    "            w = w - eta * delta\n",
    "        losses.append(batch_loss(xentropy_loss,w, X, Y))\n",
    "    return w, losses"
   ]
  },
  {
   "cell_type": "code",
   "execution_count": 48,
   "metadata": {
    "nbpresent": {
     "id": "7aec2674-39df-4aad-a6de-6854bd7eb344"
    },
    "slideshow": {
     "slide_type": "subslide"
    }
   },
   "outputs": [
    {
     "data": {
      "text/plain": [
       "<matplotlib.legend.Legend at 0x10928ac88>"
      ]
     },
     "execution_count": 48,
     "metadata": {},
     "output_type": "execute_result"
    },
    {
     "data": {
      "image/png": "[encoded data removed]",
      "text/plain": [
       "<Figure size 576x384 with 1 Axes>"
      ]
     },
     "metadata": {},
     "output_type": "display_data"
    }
   ],
   "source": [
    "lr = 0.005\n",
    "epochs = 500\n",
    "w1, losses_bt = batch_gd(X, Y, epochs, lr, np.array([0, 0, 0]))\n",
    "w2, losses_ol = sgd(X, Y, epochs, lr, np.array([0, 0, 0]))\n",
    "pl.figure(figsize = (8,16/3))\n",
    "pl.plot(np.arange(epochs), losses_ol, label=\"SGD\")\n",
    "pl.plot(np.arange(epochs), losses_bt, label=\"Batch\")\n",
    "pl.xlabel(\"Epoch\")\n",
    "pl.ylabel(\"Loss\")\n",
    "pl.legend()"
   ]
  },
  {
   "cell_type": "code",
   "execution_count": 49,
   "metadata": {
    "nbpresent": {
     "id": "78993f2e-47ce-40f4-b697-844678e86f5c"
    },
    "slideshow": {
     "slide_type": "subslide"
    }
   },
   "outputs": [
    {
     "data": {
      "image/png": "[encoded data removed]",
      "text/plain": [
       "<Figure size 576x384 with 2 Axes>"
      ]
     },
     "metadata": {},
     "output_type": "display_data"
    }
   ],
   "source": [
    "def gen_pred_fun(w):\n",
    "    def pred_fun(x1, x2):\n",
    "        x = np.array([x1, x2])\n",
    "        return predict(w, x)\n",
    "    return pred_fun\n",
    "\n",
    "pl.figure(figsize = (8,16/3))    \n",
    "plot_decision_region(X, gen_pred_fun(w1))\n",
    "plot_data(X, Y)"
   ]
  }
 ],
 "metadata": {
  "celltoolbar": "Slideshow",
  "kernelspec": {
   "display_name": "Python 3",
   "language": "python",
   "name": "python3"
  },
  "language_info": {
   "codemirror_mode": {
    "name": "ipython",
    "version": 3
   },
   "file_extension": ".py",
   "mimetype": "text/x-python",
   "name": "python",
   "nbconvert_exporter": "python",
   "pygments_lexer": "ipython3",
   "version": "3.6.5"
  },
  "livereveal": {
   "theme": "simple",
   "transition": "fade"
  },
  "nbpresent": {
   "slides": {
    "6ff2e203-1283-4451-af39-c10147d4ce0b": {
     "id": "6ff2e203-1283-4451-af39-c10147d4ce0b",
     "prev": null,
     "regions": {
      "b1384499-94bd-485f-809b-2950768412bc": {
       "attrs": {
        "height": 0.43626286619160726,
        "width": 1,
        "x": -0.0023752969121140144,
        "y": 0.2238057534969649
       },
       "content": {
        "cell": "4e866e13-925b-49e7-993f-9eab8c71f4b9",
        "part": "source"
       },
       "id": "b1384499-94bd-485f-809b-2950768412bc"
      }
     }
    },
    "762522ce-2abc-45e1-bb48-b091e9cba1c8": {
     "id": "762522ce-2abc-45e1-bb48-b091e9cba1c8",
     "prev": "6ff2e203-1283-4451-af39-c10147d4ce0b",
     "regions": {
      "bef50d5d-7bfd-4659-b1c6-403c6b833986": {
       "attrs": {
        "height": 0.1499999999999999,
        "width": 1,
        "x": 0,
        "y": -2.220446049250313e-16
       },
       "content": {
        "cell": "ae3e8f80-4d56-4e23-ab6b-efeb7d4b54c5",
        "part": "source"
       },
       "id": "bef50d5d-7bfd-4659-b1c6-403c6b833986"
      },
      "e9f5976c-0682-4f11-9404-5c6ace0aa40a": {
       "attrs": {
        "height": 0.7598838743731856,
        "width": 0.9270783847980998,
        "x": 0.03586698337292153,
        "y": 0.21612562681446296
       },
       "content": {
        "cell": "01087888-4843-4c4e-9f83-f2e07e78b9db",
        "part": "whole"
       },
       "id": "e9f5976c-0682-4f11-9404-5c6ace0aa40a"
      }
     }
    },
    "e53a3bb7-b43b-468e-aa1d-4ddc2d8ec4f5": {
     "id": "e53a3bb7-b43b-468e-aa1d-4ddc2d8ec4f5",
     "prev": "762522ce-2abc-45e1-bb48-b091e9cba1c8",
     "regions": {
      "a5d9b57a-22a7-4b23-96f9-22232af65e37": {
       "attrs": {
        "height": 0.1499999999999999,
        "width": 1,
        "x": 0,
        "y": -2.220446049250313e-16
       },
       "content": null,
       "id": "a5d9b57a-22a7-4b23-96f9-22232af65e37"
      },
      "fc194cc7-e192-4159-9b96-40882d9a2ff0": {
       "attrs": {
        "height": 0.8,
        "width": 0.8,
        "x": 0.1,
        "y": 0.1
       },
       "content": null,
       "id": "fc194cc7-e192-4159-9b96-40882d9a2ff0"
      }
     }
    }
   },
   "themes": {
    "default": "badeacac-813f-479f-bbe8-f50859d5bddf",
    "theme": {
     "badeacac-813f-479f-bbe8-f50859d5bddf": {
      "backgrounds": {
       "backgroundColor": {
        "background-color": "backgroundColor",
        "id": "backgroundColor"
       }
      },
      "id": "badeacac-813f-479f-bbe8-f50859d5bddf",
      "palette": {
       "backgroundColor": {
        "id": "backgroundColor",
        "rgb": [
         34,
         34,
         34
        ]
       },
       "headingColor": {
        "id": "headingColor",
        "rgb": [
         256,
         256,
         256
        ]
       },
       "linkColor": {
        "id": "linkColor",
        "rgb": [
         66,
         175,
         250
        ]
       },
       "mainColor": {
        "id": "mainColor",
        "rgb": [
         256,
         256,
         256
        ]
       }
      },
      "rules": {
       "a": {
        "color": "linkColor"
       },
       "h1": {
        "color": "headingColor",
        "font-family": "Source Sans Pro",
        "font-size": 5.25
       },
       "h2": {
        "color": "headingColor",
        "font-family": "Source Sans Pro",
        "font-size": 4
       },
       "h3": {
        "color": "headingColor",
        "font-family": "Source Sans Pro",
        "font-size": 3.5
       },
       "h4": {
        "color": "headingColor",
        "font-family": "Source Sans Pro",
        "font-size": 3
       },
       "h5": {
        "color": "headingColor",
        "font-family": "Source Sans Pro"
       },
       "h6": {
        "color": "headingColor",
        "font-family": "Source Sans Pro"
       },
       "h7": {
        "color": "headingColor",
        "font-family": "Source Sans Pro"
       },
       "li": {
        "color": "mainColor",
        "font-family": "Source Sans Pro",
        "font-size": 6
       },
       "p": {
        "color": "mainColor",
        "font-family": "Source Sans Pro",
        "font-size": 6
       }
      },
      "text-base": {
       "color": "mainColor",
       "font-family": "Source Sans Pro",
       "font-size": 6
      }
     },
     "cd9581a9-d06d-4e20-bcd6-3a6f008b6568": {
      "backgrounds": {
       "dc7afa04-bf90-40b1-82a5-726e3cff5267": {
        "background-color": "31af15d2-7e15-44c5-ab5e-e04b16a89eff",
        "id": "dc7afa04-bf90-40b1-82a5-726e3cff5267"
       }
      },
      "id": "cd9581a9-d06d-4e20-bcd6-3a6f008b6568",
      "palette": {
       "19cc588f-0593-49c9-9f4b-e4d7cc113b1c": {
        "id": "19cc588f-0593-49c9-9f4b-e4d7cc113b1c",
        "rgb": [
         252,
         252,
         252
        ]
       },
       "31af15d2-7e15-44c5-ab5e-e04b16a89eff": {
        "id": "31af15d2-7e15-44c5-ab5e-e04b16a89eff",
        "rgb": [
         68,
         68,
         68
        ]
       },
       "50f92c45-a630-455b-aec3-788680ec7410": {
        "id": "50f92c45-a630-455b-aec3-788680ec7410",
        "rgb": [
         197,
         226,
         245
        ]
       },
       "c5cc3653-2ee1-402a-aba2-7caae1da4f6c": {
        "id": "c5cc3653-2ee1-402a-aba2-7caae1da4f6c",
        "rgb": [
         43,
         126,
         184
        ]
       },
       "efa7f048-9acb-414c-8b04-a26811511a21": {
        "id": "efa7f048-9acb-414c-8b04-a26811511a21",
        "rgb": [
         25.118061674008803,
         73.60176211453744,
         107.4819383259912
        ]
       }
      },
      "rules": {
       "a": {
        "color": "19cc588f-0593-49c9-9f4b-e4d7cc113b1c"
       },
       "blockquote": {
        "color": "50f92c45-a630-455b-aec3-788680ec7410",
        "font-size": 3
       },
       "code": {
        "font-family": "Anonymous Pro"
       },
       "h1": {
        "color": "19cc588f-0593-49c9-9f4b-e4d7cc113b1c",
        "font-family": "Merriweather",
        "font-size": 8
       },
       "h2": {
        "color": "19cc588f-0593-49c9-9f4b-e4d7cc113b1c",
        "font-family": "Merriweather",
        "font-size": 6
       },
       "h3": {
        "color": "50f92c45-a630-455b-aec3-788680ec7410",
        "font-family": "Lato",
        "font-size": 5.5
       },
       "h4": {
        "color": "c5cc3653-2ee1-402a-aba2-7caae1da4f6c",
        "font-family": "Lato",
        "font-size": 5
       },
       "h5": {
        "font-family": "Lato"
       },
       "h6": {
        "font-family": "Lato"
       },
       "h7": {
        "font-family": "Lato"
       },
       "li": {
        "color": "50f92c45-a630-455b-aec3-788680ec7410",
        "font-size": 3.25
       },
       "pre": {
        "font-family": "Anonymous Pro",
        "font-size": 4
       }
      },
      "text-base": {
       "color": "19cc588f-0593-49c9-9f4b-e4d7cc113b1c",
       "font-family": "Lato",
       "font-size": 4
      }
     },
     "cf1308b6-1bc4-436f-8eaf-04665a63674b": {
      "id": "cf1308b6-1bc4-436f-8eaf-04665a63674b",
      "palette": {
       "19cc588f-0593-49c9-9f4b-e4d7cc113b1c": {
        "id": "19cc588f-0593-49c9-9f4b-e4d7cc113b1c",
        "rgb": [
         252,
         252,
         252
        ]
       },
       "31af15d2-7e15-44c5-ab5e-e04b16a89eff": {
        "id": "31af15d2-7e15-44c5-ab5e-e04b16a89eff",
        "rgb": [
         68,
         68,
         68
        ]
       },
       "50f92c45-a630-455b-aec3-788680ec7410": {
        "id": "50f92c45-a630-455b-aec3-788680ec7410",
        "rgb": [
         155,
         177,
         192
        ]
       },
       "c5cc3653-2ee1-402a-aba2-7caae1da4f6c": {
        "id": "c5cc3653-2ee1-402a-aba2-7caae1da4f6c",
        "rgb": [
         43,
         126,
         184
        ]
       },
       "efa7f048-9acb-414c-8b04-a26811511a21": {
        "id": "efa7f048-9acb-414c-8b04-a26811511a21",
        "rgb": [
         25.118061674008803,
         73.60176211453744,
         107.4819383259912
        ]
       }
      },
      "rules": {
       "blockquote": {
        "color": "50f92c45-a630-455b-aec3-788680ec7410"
       },
       "code": {
        "font-family": "Anonymous Pro"
       },
       "h1": {
        "color": "c5cc3653-2ee1-402a-aba2-7caae1da4f6c",
        "font-family": "Lato",
        "font-size": 8
       },
       "h2": {
        "color": "c5cc3653-2ee1-402a-aba2-7caae1da4f6c",
        "font-family": "Lato",
        "font-size": 6
       },
       "h3": {
        "color": "50f92c45-a630-455b-aec3-788680ec7410",
        "font-family": "Lato",
        "font-size": 5.5
       },
       "h4": {
        "color": "c5cc3653-2ee1-402a-aba2-7caae1da4f6c",
        "font-family": "Lato",
        "font-size": 5
       },
       "h5": {
        "font-family": "Lato"
       },
       "h6": {
        "font-family": "Lato"
       },
       "h7": {
        "font-family": "Lato"
       },
       "pre": {
        "font-family": "Anonymous Pro",
        "font-size": 4
       }
      },
      "text-base": {
       "font-family": "Merriweather",
       "font-size": 4
      }
     },
     "f5c4ec42-175a-4df0-9fd9-b7ac101947b0": {
      "backgrounds": {
       "backgroundColor": {
        "background-color": "backgroundColor",
        "id": "backgroundColor"
       }
      },
      "id": "f5c4ec42-175a-4df0-9fd9-b7ac101947b0",
      "palette": {
       "backgroundColor": {
        "id": "backgroundColor",
        "rgb": [
         34,
         34,
         34
        ]
       },
       "headingColor": {
        "id": "headingColor",
        "rgb": [
         238,
         238,
         238
        ]
       },
       "linkColor": {
        "id": "linkColor",
        "rgb": [
         170,
         34,
         51
        ]
       },
       "mainColor": {
        "id": "mainColor",
        "rgb": [
         238,
         238,
         238
        ]
       }
      },
      "rules": {
       "a": {
        "color": "linkColor"
       },
       "h1": {
        "color": "headingColor",
        "font-family": "Ubuntu",
        "font-size": 7
       },
       "h2": {
        "color": "headingColor",
        "font-family": "Ubuntu",
        "font-size": 5
       },
       "h3": {
        "color": "headingColor",
        "font-family": "Ubuntu",
        "font-size": 3.75
       },
       "h4": {
        "color": "headingColor",
        "font-family": "Ubuntu",
        "font-size": 3
       },
       "h5": {
        "color": "headingColor",
        "font-family": "Ubuntu"
       },
       "h6": {
        "color": "headingColor",
        "font-family": "Ubuntu"
       },
       "h7": {
        "color": "headingColor",
        "font-family": "Ubuntu"
       },
       "li": {
        "color": "mainColor",
        "font-family": "Ubuntu",
        "font-size": 5
       },
       "p": {
        "color": "mainColor",
        "font-family": "Ubuntu",
        "font-size": 5
       }
      },
      "text-base": {
       "color": "mainColor",
       "font-family": "Ubuntu",
       "font-size": 5
      }
     }
    }
   }
  }
 },
 "nbformat": 4,
 "nbformat_minor": 2
}
