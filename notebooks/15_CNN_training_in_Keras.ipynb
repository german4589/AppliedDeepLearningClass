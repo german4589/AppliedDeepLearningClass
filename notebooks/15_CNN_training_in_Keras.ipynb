{
  "nbformat": 4,
  "nbformat_minor": 0,
  "metadata": {
    "colab": {
      "name": "15-CNN_training_in_Keras.ipynb",
      "version": "0.3.2",
      "views": {},
      "default_view": {},
      "provenance": []
    },
    "kernelspec": {
      "name": "python2",
      "display_name": "Python 2"
    },
    "accelerator": "GPU"
  },
  "cells": [
    {
      "metadata": {
        "id": "yIcZavuIgJ3q",
        "colab_type": "text"
      },
      "cell_type": "markdown",
      "source": [
        "# 14 - CNN for image classification en Keras\n",
        "\n",
        "by [Fabio A. González](http://dis.unal.edu.co/~fgonza/), Universidad Nacional de Colombia\n",
        "\n",
        "version 1.0, June 2018\n",
        "\n",
        "## Part of the class [Applied Deep Learning](https://github.com/albahnsen/AppliedDeepLearningClass)\n",
        "\n",
        "\n",
        "This notebook is licensed under a [Creative Commons Attribution-ShareAlike 3.0 Unported License](http://creativecommons.org/licenses/by-sa/3.0/deed.en_US). \n",
        "\n",
        "This tutorial is based on the Blog post from Francois Chollet []\"Building powerful image classification models using very little data\"](https://blog.keras.io/building-powerful-image-classification-models-using-very-little-data.html)"
      ]
    },
    {
      "metadata": {
        "id": "UzcNoDvqht9D",
        "colab_type": "text"
      },
      "cell_type": "markdown",
      "source": [
        "## Download data\n",
        "\n",
        "This is a dataset of images of cats and dogs that was extacted from this [Kaggle competition](https://www.kaggle.com/c/dogs-vs-cats/data). \n",
        "\n",
        "The file can be manually download from [here](https://drive.google.com/file/d/1Ys08yalsbM29fvvPhyDxv-SV7TBg3VxK/view?usp=sharing)"
      ]
    },
    {
      "metadata": {
        "id": "WZeFXYrRhr-M",
        "colab_type": "code",
        "colab": {
          "autoexec": {
            "startup": false,
            "wait_interval": 0
          }
        },
        "outputId": "fc6cbc5e-af34-4734-a65d-46fdac244302"
      },
      "cell_type": "code",
      "source": [
        "# Install the PyDrive wrapper & import libraries.\n",
        "# This only needs to be done once per notebook.\n",
        "!pip install -U -q PyDrive\n",
        "from pydrive.auth import GoogleAuth\n",
        "from pydrive.drive import GoogleDrive\n",
        "from google.colab import auth\n",
        "from oauth2client.client import GoogleCredentials\n",
        "\n",
        "# Authenticate and create the PyDrive client.\n",
        "# This only needs to be done once per notebook.\n",
        "auth.authenticate_user()\n",
        "gauth = GoogleAuth()\n",
        "gauth.credentials = GoogleCredentials.get_application_default()\n",
        "drive = GoogleDrive(gauth)\n",
        "\n",
        "# Download a file based on its file ID.\n",
        "#\n",
        "# A file ID looks like: laggVyWshwcyP6kEI-y_W3P8D26sz\n",
        "file_id = '1Ys08yalsbM29fvvPhyDxv-SV7TBg3VxK'\n",
        "downloaded = drive.CreateFile({'id': file_id})\n",
        "downloaded.GetContentFile(downloaded['title'])"
      ],
      "execution_count": 0,
      "outputs": []
    },
    {
      "metadata": {
        "id": "y4dk77hIh3QC",
        "colab_type": "text"
      },
      "cell_type": "markdown",
      "source": [
        "After downloading the file, we uncompress it*"
      ]
    },
    {
      "metadata": {
        "id": "yLLEuuP5isnF",
        "colab_type": "code",
        "colab": {
          "autoexec": {
            "startup": false,
            "wait_interval": 0
          }
        },
        "outputId": "4ecc2b4b-efcd-4417-eb02-bf36376a1e84"
      },
      "cell_type": "code",
      "source": [
        "!unzip cnn_data.zip > /dev/null\n"
      ],
      "execution_count": 0,
      "outputs": []
    },
    {
      "metadata": {
        "id": "iEyhyzE4ix0t",
        "colab_type": "text"
      },
      "cell_type": "markdown",
      "source": [
        "This creates the folder data:"
      ]
    },
    {
      "metadata": {
        "id": "x3SKnWpKi8pl",
        "colab_type": "code",
        "colab": {
          "autoexec": {
            "startup": false,
            "wait_interval": 0
          }
        },
        "outputId": "b77be1df-8966-444e-f70c-3009546f7b33"
      },
      "cell_type": "code",
      "source": [
        "!ls -la\n"
      ],
      "execution_count": 0,
      "outputs": []
    },
    {
      "metadata": {
        "id": "-qHcYWTxi9iv",
        "colab_type": "code",
        "colab": {
          "autoexec": {
            "startup": false,
            "wait_interval": 0
          }
        },
        "outputId": "e257834e-cf43-41b3-8320-47a294dfbe6d"
      },
      "cell_type": "code",
      "source": [
        "%matplotlib inline\n",
        "import matplotlib.pyplot as plt\n",
        "from keras.preprocessing.image import ImageDataGenerator, array_to_img, img_to_array, load_img\n",
        "\n",
        "img = load_img('data/train/dog/dog.125.jpg')  # this is a PIL image\n",
        "x = img_to_array(img)  # this is a Numpy array with shape (3, 150, 150)\n",
        "plt.imshow(img)"
      ],
      "execution_count": 0,
      "outputs": []
    },
    {
      "metadata": {
        "id": "5j-t0yL4jl6a",
        "colab_type": "text"
      },
      "cell_type": "markdown",
      "source": [
        "## Data augmentation"
      ]
    },
    {
      "metadata": {
        "id": "1iri5MzC8weF",
        "colab_type": "code",
        "colab": {
          "autoexec": {
            "startup": false,
            "wait_interval": 0
          }
        },
        "outputId": "36e1465e-d02e-4010-c078-33826d1ada46"
      },
      "cell_type": "code",
      "source": [
        "datagen = ImageDataGenerator(\n",
        "        rotation_range=40,\n",
        "        width_shift_range=0.2,\n",
        "        height_shift_range=0.2,\n",
        "        shear_range=0.2,\n",
        "        zoom_range=0.2,\n",
        "        horizontal_flip=True,\n",
        "        fill_mode='nearest')\n",
        "\n",
        "img = load_img('data/train/cat/cat.0.jpg')  # this is a PIL image\n",
        "x = img_to_array(img)  # this is a Numpy array with shape (3, _, _)\n",
        "x = x.reshape((1,) + x.shape)  # this is a Numpy array with shape (1, 3, _, _)\n",
        "\n",
        "# the .flow() command below generates batches of randomly transformed images\n",
        "# and saves the results to the `preview/` directory\n",
        "i = 0\n",
        "for batch in datagen.flow(x, batch_size=1):\n",
        "    i += 1\n",
        "    if i > 20:\n",
        "        break  # otherwise the generator would loop indefinitely\n",
        "plt.imshow(batch[0]/255) "
      ],
      "execution_count": 0,
      "outputs": []
    },
    {
      "metadata": {
        "id": "Pcg5x-do_mQN",
        "colab_type": "text"
      },
      "cell_type": "markdown",
      "source": [
        "## Conv Net for Dog-Cat discrimination\n",
        "\n",
        "Training variables"
      ]
    },
    {
      "metadata": {
        "id": "H6Za8E6Y-eFO",
        "colab_type": "code",
        "colab": {
          "autoexec": {
            "startup": false,
            "wait_interval": 0
          }
        },
        "outputId": "5028f6b2-b2d2-46e9-812d-81fdc7d7802f"
      },
      "cell_type": "code",
      "source": [
        "# dimensions of our images.\n",
        "img_width, img_height = 150, 150\n",
        "\n",
        "train_data_dir = 'data/train'\n",
        "validation_data_dir = 'data/validation'\n",
        "nb_train_samples = 2000\n",
        "nb_validation_samples = 400\n",
        "epochs = 50\n",
        "batch_size = 16"
      ],
      "execution_count": 0,
      "outputs": []
    },
    {
      "metadata": {
        "id": "Sw9ZAhhH_9ld",
        "colab_type": "text"
      },
      "cell_type": "markdown",
      "source": [
        "The convolutional network model"
      ]
    },
    {
      "metadata": {
        "id": "FlOOsca9_6BZ",
        "colab_type": "code",
        "colab": {
          "autoexec": {
            "startup": false,
            "wait_interval": 0
          }
        },
        "outputId": "e031ba13-a5f5-412d-b134-2a43969b499d"
      },
      "cell_type": "code",
      "source": [
        "from keras.models import Sequential\n",
        "from keras.layers import Conv2D, MaxPooling2D\n",
        "from keras.layers import Activation, Dropout, Flatten, Dense\n",
        "from keras import backend as K\n",
        "\n",
        "\n",
        "if K.image_data_format() == 'channels_first':\n",
        "    input_shape = (3, img_width, img_height)\n",
        "else:\n",
        "    input_shape = (img_width, img_height, 3)\n",
        "\n",
        "model = Sequential()\n",
        "model.add(Conv2D(32, (3, 3), input_shape=input_shape))\n",
        "model.add(Activation('relu'))\n",
        "model.add(MaxPooling2D(pool_size=(2, 2)))\n",
        "\n",
        "model.add(Conv2D(32, (3, 3)))\n",
        "model.add(Activation('relu'))\n",
        "model.add(MaxPooling2D(pool_size=(2, 2)))\n",
        "\n",
        "model.add(Conv2D(64, (3, 3)))\n",
        "model.add(Activation('relu'))\n",
        "model.add(MaxPooling2D(pool_size=(2, 2)))\n",
        "\n",
        "model.add(Flatten())\n",
        "model.add(Dense(64))\n",
        "model.add(Activation('relu'))\n",
        "model.add(Dropout(0.5))\n",
        "model.add(Dense(1))\n",
        "model.add(Activation('sigmoid'))\n",
        "\n",
        "model.summary()"
      ],
      "execution_count": 0,
      "outputs": []
    },
    {
      "metadata": {
        "id": "pJfdsv1xAEPj",
        "colab_type": "code",
        "colab": {
          "autoexec": {
            "startup": false,
            "wait_interval": 0
          }
        },
        "outputId": "87042717-53ca-45e5-d388-9dc87b6ecb77"
      },
      "cell_type": "code",
      "source": [
        "model.compile(loss='binary_crossentropy',\n",
        "              optimizer='rmsprop',\n",
        "              metrics=['accuracy'])\n",
        "\n",
        "# this is the augmentation configuration we will use for training\n",
        "train_datagen = ImageDataGenerator(\n",
        "    rescale=1. / 255,\n",
        "    shear_range=0.2,\n",
        "    zoom_range=0.2,\n",
        "    horizontal_flip=True)\n",
        "\n",
        "# this is the augmentation configuration we will use for testing:\n",
        "# only rescaling\n",
        "test_datagen = ImageDataGenerator(rescale=1. / 255)\n",
        "\n",
        "train_generator = train_datagen.flow_from_directory(\n",
        "    train_data_dir,\n",
        "    target_size=(img_width, img_height),\n",
        "    batch_size=batch_size,\n",
        "    class_mode='binary')\n",
        "\n",
        "validation_generator = test_datagen.flow_from_directory(\n",
        "    validation_data_dir,\n",
        "    target_size=(img_width, img_height),\n",
        "    batch_size=batch_size,\n",
        "    class_mode='binary')"
      ],
      "execution_count": 0,
      "outputs": []
    },
    {
      "metadata": {
        "id": "4W4IL-aFA9Jc",
        "colab_type": "code",
        "colab": {
          "autoexec": {
            "startup": false,
            "wait_interval": 0
          }
        },
        "outputId": "288b104b-07e3-4d1b-9c59-06933d28b64f"
      },
      "cell_type": "code",
      "source": [
        "epochs = 10\n",
        "model.fit_generator(\n",
        "    train_generator,\n",
        "    steps_per_epoch=nb_train_samples // batch_size,\n",
        "    epochs=epochs,\n",
        "    validation_data=validation_generator,\n",
        "    validation_steps=nb_validation_samples // batch_size)"
      ],
      "execution_count": 0,
      "outputs": []
    },
    {
      "metadata": {
        "id": "qcb42_t-B_dE",
        "colab_type": "code",
        "colab": {
          "autoexec": {
            "startup": false,
            "wait_interval": 0
          }
        },
        "outputId": "8d066680-9342-4b03-9ffd-eba040d5a77f"
      },
      "cell_type": "code",
      "source": [
        "from tensorflow.python.client import device_lib\n",
        "print(device_lib.list_local_devices())"
      ],
      "execution_count": 0,
      "outputs": []
    },
    {
      "metadata": {
        "id": "GLzLDyQ3Fln3",
        "colab_type": "text"
      },
      "cell_type": "markdown",
      "source": [
        "## Testing the classifier\n",
        "\n",
        "We will use the validation generator to generate one batch of samples and we'll pass them to the model"
      ]
    },
    {
      "metadata": {
        "id": "K4SaX1Q1Cq2P",
        "colab_type": "code",
        "colab": {
          "autoexec": {
            "startup": false,
            "wait_interval": 0
          }
        },
        "outputId": "c97fead0-3194-4016-d9e2-32230aa35708"
      },
      "cell_type": "code",
      "source": [
        "for x_batch, y_batch in validation_generator:\n",
        "  plt.imshow(x_batch[0])\n",
        "  print(y_batch)\n",
        "  print(model.predict_proba(x_batch))\n",
        "  break"
      ],
      "execution_count": 0,
      "outputs": []
    },
    {
      "metadata": {
        "id": "PLw47QOSGzdd",
        "colab_type": "text"
      },
      "cell_type": "markdown",
      "source": [
        "## Transfer Learning\n",
        "\n",
        "We will use a pretrained image classification model from Keras. They are documented [here](https://keras.io/applications/)"
      ]
    },
    {
      "metadata": {
        "id": "NbPsRFiDF0U8",
        "colab_type": "code",
        "colab": {
          "autoexec": {
            "startup": false,
            "wait_interval": 0
          },
          "base_uri": "https://localhost:8080/",
          "height": 124
        },
        "outputId": "bfbf954c-4a93-4843-edb1-cd9d938851f0",
        "executionInfo": {
          "status": "ok",
          "timestamp": 1530839534005,
          "user_tz": 300,
          "elapsed": 15100,
          "user": {
            "displayName": "Fabio Gonzalez",
            "photoUrl": "//lh3.googleusercontent.com/-U4IcDwT4dVc/AAAAAAAAAAI/AAAAAAAAAFc/e1b-BRwMwNk/s50-c-k-no/photo.jpg",
            "userId": "104098167961521490884"
          }
        }
      },
      "cell_type": "code",
      "source": [
        "import numpy as np\n",
        "from keras.preprocessing.image import ImageDataGenerator\n",
        "from keras.models import Sequential\n",
        "from keras.layers import Dropout, Flatten, Dense\n",
        "from keras import applications\n",
        "\n",
        "# dimensions of our images.\n",
        "img_width, img_height = 128, 128\n",
        "\n",
        "top_model_weights_path = 'bottleneck_fc_model.h5'\n",
        "train_data_dir = 'data/train'\n",
        "validation_data_dir = 'data/validation'\n",
        "nb_train_samples = 2000\n",
        "nb_validation_samples = 400\n",
        "epochs = 50\n",
        "batch_size = 16\n",
        "\n",
        "datagen = ImageDataGenerator(rescale=1. / 255)\n",
        "\n",
        "# build the MobileNet network\n",
        "model = applications.MobileNet(include_top=False, weights='imagenet'\n",
        "                               , input_shape=(img_width, img_height, 3))\n",
        "\n",
        "generator = datagen.flow_from_directory(\n",
        "    train_data_dir,\n",
        "    target_size=(img_width, img_height),\n",
        "    batch_size=batch_size,\n",
        "    class_mode=None,\n",
        "    shuffle=False)\n",
        "bottleneck_features_train = model.predict_generator(\n",
        "    generator, nb_train_samples // batch_size)\n",
        "np.save('bottleneck_features_train.npy',\n",
        "        bottleneck_features_train)\n",
        "\n",
        "generator = datagen.flow_from_directory(\n",
        "    validation_data_dir,\n",
        "    target_size=(img_width, img_height),\n",
        "    batch_size=batch_size,\n",
        "    class_mode=None,\n",
        "    shuffle=False)\n",
        "bottleneck_features_validation = model.predict_generator(\n",
        "    generator, nb_validation_samples // batch_size)\n",
        "np.save('bottleneck_features_validation.npy',\n",
        "        bottleneck_features_validation)"
      ],
      "execution_count": 18,
      "outputs": [
        {
          "output_type": "stream",
          "text": [
            "Downloading data from https://github.com/fchollet/deep-learning-models/releases/download/v0.6/mobilenet_1_0_128_tf_no_top.h5\n",
            "17227776/17225924 [==============================] - 0s 0us/step\n",
            "17235968/17225924 [==============================] - 0s 0us/step\n",
            "Found 2000 images belonging to 2 classes.\n",
            "Found 400 images belonging to 2 classes.\n"
          ],
          "name": "stdout"
        }
      ]
    },
    {
      "metadata": {
        "id": "1RO_DAaaJU5n",
        "colab_type": "code",
        "colab": {
          "autoexec": {
            "startup": false,
            "wait_interval": 0
          },
          "base_uri": "https://localhost:8080/",
          "height": 34
        },
        "outputId": "f49aaebd-1390-4946-8dc8-0a172e20635b",
        "executionInfo": {
          "status": "ok",
          "timestamp": 1530839727572,
          "user_tz": 300,
          "elapsed": 454,
          "user": {
            "displayName": "Fabio Gonzalez",
            "photoUrl": "//lh3.googleusercontent.com/-U4IcDwT4dVc/AAAAAAAAAAI/AAAAAAAAAFc/e1b-BRwMwNk/s50-c-k-no/photo.jpg",
            "userId": "104098167961521490884"
          }
        }
      },
      "cell_type": "code",
      "source": [
        "bottleneck_features_train.shape"
      ],
      "execution_count": 19,
      "outputs": [
        {
          "output_type": "execute_result",
          "data": {
            "text/plain": [
              "(2000, 4, 4, 1024)"
            ]
          },
          "metadata": {
            "tags": []
          },
          "execution_count": 19
        }
      ]
    },
    {
      "metadata": {
        "id": "wB4EwCerKHum",
        "colab_type": "code",
        "colab": {
          "autoexec": {
            "startup": false,
            "wait_interval": 0
          },
          "base_uri": "https://localhost:8080/",
          "height": 3499
        },
        "outputId": "3b787a9a-e753-4cc2-8e97-ca5de7c4d5d0",
        "executionInfo": {
          "status": "ok",
          "timestamp": 1530839770075,
          "user_tz": 300,
          "elapsed": 579,
          "user": {
            "displayName": "Fabio Gonzalez",
            "photoUrl": "//lh3.googleusercontent.com/-U4IcDwT4dVc/AAAAAAAAAAI/AAAAAAAAAFc/e1b-BRwMwNk/s50-c-k-no/photo.jpg",
            "userId": "104098167961521490884"
          }
        }
      },
      "cell_type": "code",
      "source": [
        "model.summary()"
      ],
      "execution_count": 20,
      "outputs": [
        {
          "output_type": "stream",
          "text": [
            "_________________________________________________________________\n",
            "Layer (type)                 Output Shape              Param #   \n",
            "=================================================================\n",
            "input_1 (InputLayer)         (None, 128, 128, 3)       0         \n",
            "_________________________________________________________________\n",
            "conv1_pad (ZeroPadding2D)    (None, 130, 130, 3)       0         \n",
            "_________________________________________________________________\n",
            "conv1 (Conv2D)               (None, 64, 64, 32)        864       \n",
            "_________________________________________________________________\n",
            "conv1_bn (BatchNormalization (None, 64, 64, 32)        128       \n",
            "_________________________________________________________________\n",
            "conv1_relu (Activation)      (None, 64, 64, 32)        0         \n",
            "_________________________________________________________________\n",
            "conv_pad_1 (ZeroPadding2D)   (None, 66, 66, 32)        0         \n",
            "_________________________________________________________________\n",
            "conv_dw_1 (DepthwiseConv2D)  (None, 64, 64, 32)        288       \n",
            "_________________________________________________________________\n",
            "conv_dw_1_bn (BatchNormaliza (None, 64, 64, 32)        128       \n",
            "_________________________________________________________________\n",
            "conv_dw_1_relu (Activation)  (None, 64, 64, 32)        0         \n",
            "_________________________________________________________________\n",
            "conv_pw_1 (Conv2D)           (None, 64, 64, 64)        2048      \n",
            "_________________________________________________________________\n",
            "conv_pw_1_bn (BatchNormaliza (None, 64, 64, 64)        256       \n",
            "_________________________________________________________________\n",
            "conv_pw_1_relu (Activation)  (None, 64, 64, 64)        0         \n",
            "_________________________________________________________________\n",
            "conv_pad_2 (ZeroPadding2D)   (None, 66, 66, 64)        0         \n",
            "_________________________________________________________________\n",
            "conv_dw_2 (DepthwiseConv2D)  (None, 32, 32, 64)        576       \n",
            "_________________________________________________________________\n",
            "conv_dw_2_bn (BatchNormaliza (None, 32, 32, 64)        256       \n",
            "_________________________________________________________________\n",
            "conv_dw_2_relu (Activation)  (None, 32, 32, 64)        0         \n",
            "_________________________________________________________________\n",
            "conv_pw_2 (Conv2D)           (None, 32, 32, 128)       8192      \n",
            "_________________________________________________________________\n",
            "conv_pw_2_bn (BatchNormaliza (None, 32, 32, 128)       512       \n",
            "_________________________________________________________________\n",
            "conv_pw_2_relu (Activation)  (None, 32, 32, 128)       0         \n",
            "_________________________________________________________________\n",
            "conv_pad_3 (ZeroPadding2D)   (None, 34, 34, 128)       0         \n",
            "_________________________________________________________________\n",
            "conv_dw_3 (DepthwiseConv2D)  (None, 32, 32, 128)       1152      \n",
            "_________________________________________________________________\n",
            "conv_dw_3_bn (BatchNormaliza (None, 32, 32, 128)       512       \n",
            "_________________________________________________________________\n",
            "conv_dw_3_relu (Activation)  (None, 32, 32, 128)       0         \n",
            "_________________________________________________________________\n",
            "conv_pw_3 (Conv2D)           (None, 32, 32, 128)       16384     \n",
            "_________________________________________________________________\n",
            "conv_pw_3_bn (BatchNormaliza (None, 32, 32, 128)       512       \n",
            "_________________________________________________________________\n",
            "conv_pw_3_relu (Activation)  (None, 32, 32, 128)       0         \n",
            "_________________________________________________________________\n",
            "conv_pad_4 (ZeroPadding2D)   (None, 34, 34, 128)       0         \n",
            "_________________________________________________________________\n",
            "conv_dw_4 (DepthwiseConv2D)  (None, 16, 16, 128)       1152      \n",
            "_________________________________________________________________\n",
            "conv_dw_4_bn (BatchNormaliza (None, 16, 16, 128)       512       \n",
            "_________________________________________________________________\n",
            "conv_dw_4_relu (Activation)  (None, 16, 16, 128)       0         \n",
            "_________________________________________________________________\n",
            "conv_pw_4 (Conv2D)           (None, 16, 16, 256)       32768     \n",
            "_________________________________________________________________\n",
            "conv_pw_4_bn (BatchNormaliza (None, 16, 16, 256)       1024      \n",
            "_________________________________________________________________\n",
            "conv_pw_4_relu (Activation)  (None, 16, 16, 256)       0         \n",
            "_________________________________________________________________\n",
            "conv_pad_5 (ZeroPadding2D)   (None, 18, 18, 256)       0         \n",
            "_________________________________________________________________\n",
            "conv_dw_5 (DepthwiseConv2D)  (None, 16, 16, 256)       2304      \n",
            "_________________________________________________________________\n",
            "conv_dw_5_bn (BatchNormaliza (None, 16, 16, 256)       1024      \n",
            "_________________________________________________________________\n",
            "conv_dw_5_relu (Activation)  (None, 16, 16, 256)       0         \n",
            "_________________________________________________________________\n",
            "conv_pw_5 (Conv2D)           (None, 16, 16, 256)       65536     \n",
            "_________________________________________________________________\n",
            "conv_pw_5_bn (BatchNormaliza (None, 16, 16, 256)       1024      \n",
            "_________________________________________________________________\n",
            "conv_pw_5_relu (Activation)  (None, 16, 16, 256)       0         \n",
            "_________________________________________________________________\n",
            "conv_pad_6 (ZeroPadding2D)   (None, 18, 18, 256)       0         \n",
            "_________________________________________________________________\n",
            "conv_dw_6 (DepthwiseConv2D)  (None, 8, 8, 256)         2304      \n",
            "_________________________________________________________________\n",
            "conv_dw_6_bn (BatchNormaliza (None, 8, 8, 256)         1024      \n",
            "_________________________________________________________________\n",
            "conv_dw_6_relu (Activation)  (None, 8, 8, 256)         0         \n",
            "_________________________________________________________________\n",
            "conv_pw_6 (Conv2D)           (None, 8, 8, 512)         131072    \n",
            "_________________________________________________________________\n",
            "conv_pw_6_bn (BatchNormaliza (None, 8, 8, 512)         2048      \n",
            "_________________________________________________________________\n",
            "conv_pw_6_relu (Activation)  (None, 8, 8, 512)         0         \n",
            "_________________________________________________________________\n",
            "conv_pad_7 (ZeroPadding2D)   (None, 10, 10, 512)       0         \n",
            "_________________________________________________________________\n",
            "conv_dw_7 (DepthwiseConv2D)  (None, 8, 8, 512)         4608      \n",
            "_________________________________________________________________\n",
            "conv_dw_7_bn (BatchNormaliza (None, 8, 8, 512)         2048      \n",
            "_________________________________________________________________\n",
            "conv_dw_7_relu (Activation)  (None, 8, 8, 512)         0         \n",
            "_________________________________________________________________\n",
            "conv_pw_7 (Conv2D)           (None, 8, 8, 512)         262144    \n",
            "_________________________________________________________________\n",
            "conv_pw_7_bn (BatchNormaliza (None, 8, 8, 512)         2048      \n",
            "_________________________________________________________________\n",
            "conv_pw_7_relu (Activation)  (None, 8, 8, 512)         0         \n",
            "_________________________________________________________________\n",
            "conv_pad_8 (ZeroPadding2D)   (None, 10, 10, 512)       0         \n",
            "_________________________________________________________________\n",
            "conv_dw_8 (DepthwiseConv2D)  (None, 8, 8, 512)         4608      \n",
            "_________________________________________________________________\n",
            "conv_dw_8_bn (BatchNormaliza (None, 8, 8, 512)         2048      \n",
            "_________________________________________________________________\n",
            "conv_dw_8_relu (Activation)  (None, 8, 8, 512)         0         \n",
            "_________________________________________________________________\n",
            "conv_pw_8 (Conv2D)           (None, 8, 8, 512)         262144    \n",
            "_________________________________________________________________\n",
            "conv_pw_8_bn (BatchNormaliza (None, 8, 8, 512)         2048      \n",
            "_________________________________________________________________\n",
            "conv_pw_8_relu (Activation)  (None, 8, 8, 512)         0         \n",
            "_________________________________________________________________\n",
            "conv_pad_9 (ZeroPadding2D)   (None, 10, 10, 512)       0         \n",
            "_________________________________________________________________\n",
            "conv_dw_9 (DepthwiseConv2D)  (None, 8, 8, 512)         4608      \n",
            "_________________________________________________________________\n",
            "conv_dw_9_bn (BatchNormaliza (None, 8, 8, 512)         2048      \n",
            "_________________________________________________________________\n",
            "conv_dw_9_relu (Activation)  (None, 8, 8, 512)         0         \n",
            "_________________________________________________________________\n",
            "conv_pw_9 (Conv2D)           (None, 8, 8, 512)         262144    \n",
            "_________________________________________________________________\n",
            "conv_pw_9_bn (BatchNormaliza (None, 8, 8, 512)         2048      \n",
            "_________________________________________________________________\n",
            "conv_pw_9_relu (Activation)  (None, 8, 8, 512)         0         \n",
            "_________________________________________________________________\n",
            "conv_pad_10 (ZeroPadding2D)  (None, 10, 10, 512)       0         \n",
            "_________________________________________________________________\n",
            "conv_dw_10 (DepthwiseConv2D) (None, 8, 8, 512)         4608      \n",
            "_________________________________________________________________\n",
            "conv_dw_10_bn (BatchNormaliz (None, 8, 8, 512)         2048      \n",
            "_________________________________________________________________\n",
            "conv_dw_10_relu (Activation) (None, 8, 8, 512)         0         \n",
            "_________________________________________________________________\n",
            "conv_pw_10 (Conv2D)          (None, 8, 8, 512)         262144    \n",
            "_________________________________________________________________\n",
            "conv_pw_10_bn (BatchNormaliz (None, 8, 8, 512)         2048      \n",
            "_________________________________________________________________\n",
            "conv_pw_10_relu (Activation) (None, 8, 8, 512)         0         \n",
            "_________________________________________________________________\n",
            "conv_pad_11 (ZeroPadding2D)  (None, 10, 10, 512)       0         \n",
            "_________________________________________________________________\n",
            "conv_dw_11 (DepthwiseConv2D) (None, 8, 8, 512)         4608      \n",
            "_________________________________________________________________\n",
            "conv_dw_11_bn (BatchNormaliz (None, 8, 8, 512)         2048      \n",
            "_________________________________________________________________\n",
            "conv_dw_11_relu (Activation) (None, 8, 8, 512)         0         \n",
            "_________________________________________________________________\n",
            "conv_pw_11 (Conv2D)          (None, 8, 8, 512)         262144    \n",
            "_________________________________________________________________\n",
            "conv_pw_11_bn (BatchNormaliz (None, 8, 8, 512)         2048      \n",
            "_________________________________________________________________\n",
            "conv_pw_11_relu (Activation) (None, 8, 8, 512)         0         \n",
            "_________________________________________________________________\n",
            "conv_pad_12 (ZeroPadding2D)  (None, 10, 10, 512)       0         \n",
            "_________________________________________________________________\n",
            "conv_dw_12 (DepthwiseConv2D) (None, 4, 4, 512)         4608      \n",
            "_________________________________________________________________\n",
            "conv_dw_12_bn (BatchNormaliz (None, 4, 4, 512)         2048      \n",
            "_________________________________________________________________\n",
            "conv_dw_12_relu (Activation) (None, 4, 4, 512)         0         \n",
            "_________________________________________________________________\n",
            "conv_pw_12 (Conv2D)          (None, 4, 4, 1024)        524288    \n",
            "_________________________________________________________________\n",
            "conv_pw_12_bn (BatchNormaliz (None, 4, 4, 1024)        4096      \n",
            "_________________________________________________________________\n",
            "conv_pw_12_relu (Activation) (None, 4, 4, 1024)        0         \n",
            "_________________________________________________________________\n",
            "conv_pad_13 (ZeroPadding2D)  (None, 6, 6, 1024)        0         \n",
            "_________________________________________________________________\n",
            "conv_dw_13 (DepthwiseConv2D) (None, 4, 4, 1024)        9216      \n",
            "_________________________________________________________________\n",
            "conv_dw_13_bn (BatchNormaliz (None, 4, 4, 1024)        4096      \n",
            "_________________________________________________________________\n",
            "conv_dw_13_relu (Activation) (None, 4, 4, 1024)        0         \n",
            "_________________________________________________________________\n",
            "conv_pw_13 (Conv2D)          (None, 4, 4, 1024)        1048576   \n",
            "_________________________________________________________________\n",
            "conv_pw_13_bn (BatchNormaliz (None, 4, 4, 1024)        4096      \n",
            "_________________________________________________________________\n",
            "conv_pw_13_relu (Activation) (None, 4, 4, 1024)        0         \n",
            "=================================================================\n",
            "Total params: 3,228,864\n",
            "Trainable params: 3,206,976\n",
            "Non-trainable params: 21,888\n",
            "_________________________________________________________________\n"
          ],
          "name": "stdout"
        }
      ]
    },
    {
      "metadata": {
        "id": "Q_oIaT8ZKSFF",
        "colab_type": "code",
        "colab": {
          "autoexec": {
            "startup": false,
            "wait_interval": 0
          },
          "base_uri": "https://localhost:8080/",
          "height": 1804
        },
        "outputId": "a57bd604-1a26-4744-d959-1e94c41b9dbf",
        "executionInfo": {
          "status": "ok",
          "timestamp": 1530839998882,
          "user_tz": 300,
          "elapsed": 74975,
          "user": {
            "displayName": "Fabio Gonzalez",
            "photoUrl": "//lh3.googleusercontent.com/-U4IcDwT4dVc/AAAAAAAAAAI/AAAAAAAAAFc/e1b-BRwMwNk/s50-c-k-no/photo.jpg",
            "userId": "104098167961521490884"
          }
        }
      },
      "cell_type": "code",
      "source": [
        "train_data = np.load('bottleneck_features_train.npy')\n",
        "train_labels = np.array(\n",
        "    [0] * int(nb_train_samples / 2) + [1] * int(nb_train_samples / 2))\n",
        "\n",
        "validation_data = np.load('bottleneck_features_validation.npy')\n",
        "validation_labels = np.array(\n",
        "    [0] * int(nb_validation_samples / 2) + [1] * int(nb_validation_samples / 2))\n",
        "\n",
        "model_1 = Sequential()\n",
        "model_1.add(Flatten(input_shape=train_data.shape[1:]))\n",
        "model_1.add(Dense(256, activation='relu'))\n",
        "model_1.add(Dropout(0.5))\n",
        "model_1.add(Dense(1, activation='sigmoid'))\n",
        "\n",
        "model_1.compile(optimizer='rmsprop',\n",
        "              loss='binary_crossentropy', metrics=['accuracy'])\n",
        "\n",
        "model_1.fit(train_data, train_labels,\n",
        "          epochs=epochs,\n",
        "          batch_size=batch_size,\n",
        "          validation_data=(validation_data, validation_labels))\n",
        "model_1.save_weights(top_model_weights_path)"
      ],
      "execution_count": 21,
      "outputs": [
        {
          "output_type": "stream",
          "text": [
            "Train on 2000 samples, validate on 400 samples\n",
            "Epoch 1/50\n",
            "2000/2000 [==============================] - 2s 1ms/step - loss: 2.0776 - acc: 0.8405 - val_loss: 1.0161 - val_acc: 0.9150\n",
            "Epoch 2/50\n",
            "2000/2000 [==============================] - 2s 767us/step - loss: 0.5668 - acc: 0.9510 - val_loss: 1.2849 - val_acc: 0.9075\n",
            "Epoch 3/50\n",
            "2000/2000 [==============================] - 2s 755us/step - loss: 0.5890 - acc: 0.9530 - val_loss: 0.4222 - val_acc: 0.9600\n",
            "Epoch 4/50\n",
            "2000/2000 [==============================] - 2s 760us/step - loss: 0.4038 - acc: 0.9660 - val_loss: 0.3919 - val_acc: 0.9625\n",
            "Epoch 5/50\n",
            "2000/2000 [==============================] - 1s 740us/step - loss: 0.3896 - acc: 0.9680 - val_loss: 0.4921 - val_acc: 0.9500\n",
            "Epoch 6/50\n",
            "2000/2000 [==============================] - 1s 745us/step - loss: 0.3383 - acc: 0.9745 - val_loss: 0.3419 - val_acc: 0.9700\n",
            "Epoch 7/50\n",
            "1856/2000 [==========================>...] - ETA: 0s - loss: 0.2730 - acc: 0.9763"
          ],
          "name": "stdout"
        },
        {
          "output_type": "stream",
          "text": [
            "2000/2000 [==============================] - 1s 738us/step - loss: 0.2758 - acc: 0.9760 - val_loss: 0.3754 - val_acc: 0.9625\n",
            "Epoch 8/50\n",
            "2000/2000 [==============================] - 1s 735us/step - loss: 0.3422 - acc: 0.9710 - val_loss: 0.5928 - val_acc: 0.9550\n",
            "Epoch 9/50\n",
            "2000/2000 [==============================] - 1s 735us/step - loss: 0.3417 - acc: 0.9750 - val_loss: 0.4081 - val_acc: 0.9700\n",
            "Epoch 10/50\n",
            "2000/2000 [==============================] - 1s 732us/step - loss: 0.2052 - acc: 0.9840 - val_loss: 0.3124 - val_acc: 0.9750\n",
            "Epoch 11/50\n",
            "2000/2000 [==============================] - 1s 730us/step - loss: 0.2088 - acc: 0.9825 - val_loss: 0.4237 - val_acc: 0.9675\n",
            "Epoch 12/50\n",
            "2000/2000 [==============================] - 1s 732us/step - loss: 0.2859 - acc: 0.9770 - val_loss: 0.4679 - val_acc: 0.9625\n",
            "Epoch 13/50\n",
            "2000/2000 [==============================] - 1s 729us/step - loss: 0.1647 - acc: 0.9860 - val_loss: 0.4797 - val_acc: 0.9650\n",
            "Epoch 14/50\n",
            " 736/2000 [==========>...................] - ETA: 0s - loss: 0.1893 - acc: 0.9851"
          ],
          "name": "stdout"
        },
        {
          "output_type": "stream",
          "text": [
            "2000/2000 [==============================] - 1s 735us/step - loss: 0.1402 - acc: 0.9880 - val_loss: 0.3411 - val_acc: 0.9675\n",
            "Epoch 15/50\n",
            "2000/2000 [==============================] - 1s 736us/step - loss: 0.1289 - acc: 0.9885 - val_loss: 0.4714 - val_acc: 0.9550\n",
            "Epoch 16/50\n",
            "2000/2000 [==============================] - 1s 734us/step - loss: 0.1175 - acc: 0.9900 - val_loss: 0.4735 - val_acc: 0.9675\n",
            "Epoch 17/50\n",
            "2000/2000 [==============================] - 1s 738us/step - loss: 0.0940 - acc: 0.9900 - val_loss: 0.4334 - val_acc: 0.9650\n",
            "Epoch 18/50\n",
            "2000/2000 [==============================] - 1s 726us/step - loss: 0.1631 - acc: 0.9880 - val_loss: 0.4650 - val_acc: 0.9675\n",
            "Epoch 19/50\n",
            "2000/2000 [==============================] - 1s 729us/step - loss: 0.1190 - acc: 0.9905 - val_loss: 0.2557 - val_acc: 0.9725\n",
            "Epoch 20/50\n",
            "2000/2000 [==============================] - 1s 744us/step - loss: 0.0801 - acc: 0.9940 - val_loss: 0.4501 - val_acc: 0.9650\n",
            "Epoch 21/50\n",
            " 720/2000 [=========>....................] - ETA: 0s - loss: 0.0493 - acc: 0.9958"
          ],
          "name": "stdout"
        },
        {
          "output_type": "stream",
          "text": [
            "2000/2000 [==============================] - 1s 742us/step - loss: 0.0713 - acc: 0.9940 - val_loss: 0.4418 - val_acc: 0.9650\n",
            "Epoch 22/50\n",
            "2000/2000 [==============================] - 1s 740us/step - loss: 0.0731 - acc: 0.9935 - val_loss: 0.2773 - val_acc: 0.9800\n",
            "Epoch 23/50\n",
            "2000/2000 [==============================] - 1s 730us/step - loss: 0.0440 - acc: 0.9960 - val_loss: 0.4714 - val_acc: 0.9575\n",
            "Epoch 24/50\n",
            "2000/2000 [==============================] - 1s 731us/step - loss: 0.0552 - acc: 0.9960 - val_loss: 0.3682 - val_acc: 0.9750\n",
            "Epoch 25/50\n",
            "2000/2000 [==============================] - 1s 736us/step - loss: 0.0607 - acc: 0.9950 - val_loss: 0.4103 - val_acc: 0.9650\n",
            "Epoch 26/50\n",
            "2000/2000 [==============================] - 1s 736us/step - loss: 0.0426 - acc: 0.9960 - val_loss: 0.4356 - val_acc: 0.9675\n",
            "Epoch 27/50\n",
            "2000/2000 [==============================] - 1s 731us/step - loss: 0.0468 - acc: 0.9960 - val_loss: 0.3781 - val_acc: 0.9675\n",
            "Epoch 28/50\n",
            " 656/2000 [========>.....................] - ETA: 0s - loss: 0.0481 - acc: 0.9970"
          ],
          "name": "stdout"
        },
        {
          "output_type": "stream",
          "text": [
            "2000/2000 [==============================] - 1s 734us/step - loss: 0.0611 - acc: 0.9960 - val_loss: 0.2500 - val_acc: 0.9825\n",
            "Epoch 29/50\n",
            "2000/2000 [==============================] - 1s 722us/step - loss: 0.0501 - acc: 0.9965 - val_loss: 0.2739 - val_acc: 0.9775\n",
            "Epoch 30/50\n",
            "2000/2000 [==============================] - 1s 732us/step - loss: 0.0540 - acc: 0.9965 - val_loss: 0.2785 - val_acc: 0.9775\n",
            "Epoch 31/50\n",
            "2000/2000 [==============================] - 1s 736us/step - loss: 0.0454 - acc: 0.9970 - val_loss: 0.3812 - val_acc: 0.9700\n",
            "Epoch 32/50\n",
            "2000/2000 [==============================] - 1s 719us/step - loss: 0.0320 - acc: 0.9980 - val_loss: 0.3970 - val_acc: 0.9700\n",
            "Epoch 33/50\n",
            "2000/2000 [==============================] - 1s 728us/step - loss: 0.0400 - acc: 0.9970 - val_loss: 0.4154 - val_acc: 0.9700\n",
            "Epoch 34/50\n",
            "2000/2000 [==============================] - 1s 734us/step - loss: 0.0408 - acc: 0.9970 - val_loss: 0.2069 - val_acc: 0.9800\n",
            "Epoch 35/50\n",
            " 656/2000 [========>.....................] - ETA: 0s - loss: 0.0367 - acc: 0.9970"
          ],
          "name": "stdout"
        },
        {
          "output_type": "stream",
          "text": [
            "2000/2000 [==============================] - 1s 715us/step - loss: 0.0440 - acc: 0.9970 - val_loss: 0.3551 - val_acc: 0.9675\n",
            "Epoch 36/50\n",
            "2000/2000 [==============================] - 1s 726us/step - loss: 0.0420 - acc: 0.9970 - val_loss: 0.2969 - val_acc: 0.9750\n",
            "Epoch 37/50\n",
            "2000/2000 [==============================] - 1s 723us/step - loss: 0.0320 - acc: 0.9980 - val_loss: 0.3469 - val_acc: 0.9675\n",
            "Epoch 38/50\n",
            "2000/2000 [==============================] - 1s 711us/step - loss: 0.0336 - acc: 0.9975 - val_loss: 0.3271 - val_acc: 0.9675\n",
            "Epoch 39/50\n",
            "2000/2000 [==============================] - 1s 717us/step - loss: 0.0363 - acc: 0.9975 - val_loss: 0.3319 - val_acc: 0.9700\n",
            "Epoch 40/50\n",
            "2000/2000 [==============================] - 1s 722us/step - loss: 0.0378 - acc: 0.9975 - val_loss: 0.2960 - val_acc: 0.9750\n",
            "Epoch 41/50\n",
            "2000/2000 [==============================] - 1s 729us/step - loss: 0.0321 - acc: 0.9980 - val_loss: 0.3913 - val_acc: 0.9675\n",
            "Epoch 42/50\n",
            " 720/2000 [=========>....................] - ETA: 0s - loss: 0.0224 - acc: 0.9986"
          ],
          "name": "stdout"
        },
        {
          "output_type": "stream",
          "text": [
            "2000/2000 [==============================] - 1s 723us/step - loss: 0.0481 - acc: 0.9970 - val_loss: 0.2380 - val_acc: 0.9775\n",
            "Epoch 43/50\n",
            "2000/2000 [==============================] - 1s 720us/step - loss: 0.0320 - acc: 0.9980 - val_loss: 0.2390 - val_acc: 0.9775\n",
            "Epoch 44/50\n",
            "2000/2000 [==============================] - 1s 736us/step - loss: 0.0333 - acc: 0.9975 - val_loss: 0.2492 - val_acc: 0.9775\n",
            "Epoch 45/50\n",
            "2000/2000 [==============================] - 1s 727us/step - loss: 0.0348 - acc: 0.9975 - val_loss: 0.2313 - val_acc: 0.9800\n",
            "Epoch 46/50\n",
            "2000/2000 [==============================] - 1s 711us/step - loss: 0.0320 - acc: 0.9980 - val_loss: 0.2236 - val_acc: 0.9800\n",
            "Epoch 47/50\n",
            "2000/2000 [==============================] - 1s 723us/step - loss: 0.0418 - acc: 0.9970 - val_loss: 0.4497 - val_acc: 0.9675\n",
            "Epoch 48/50\n",
            "2000/2000 [==============================] - 1s 726us/step - loss: 0.0320 - acc: 0.9980 - val_loss: 0.4128 - val_acc: 0.9700\n",
            "Epoch 49/50\n",
            " 656/2000 [========>.....................] - ETA: 0s - loss: 1.0984e-07 - acc: 1.0000"
          ],
          "name": "stdout"
        },
        {
          "output_type": "stream",
          "text": [
            "2000/2000 [==============================] - 1s 725us/step - loss: 0.0320 - acc: 0.9980 - val_loss: 0.3702 - val_acc: 0.9700\n",
            "Epoch 50/50\n",
            "2000/2000 [==============================] - 1s 727us/step - loss: 0.0320 - acc: 0.9980 - val_loss: 0.2510 - val_acc: 0.9725\n"
          ],
          "name": "stdout"
        }
      ]
    },
    {
      "metadata": {
        "id": "VtuWV1PQLfzu",
        "colab_type": "code",
        "colab": {
          "autoexec": {
            "startup": false,
            "wait_interval": 0
          },
          "base_uri": "https://localhost:8080/",
          "height": 279
        },
        "outputId": "70c4fed6-eb4f-43f6-9093-9ad93b75a858",
        "executionInfo": {
          "status": "ok",
          "timestamp": 1530840094866,
          "user_tz": 300,
          "elapsed": 471,
          "user": {
            "displayName": "Fabio Gonzalez",
            "photoUrl": "//lh3.googleusercontent.com/-U4IcDwT4dVc/AAAAAAAAAAI/AAAAAAAAAFc/e1b-BRwMwNk/s50-c-k-no/photo.jpg",
            "userId": "104098167961521490884"
          }
        }
      },
      "cell_type": "code",
      "source": [
        "model_1.summary()"
      ],
      "execution_count": 22,
      "outputs": [
        {
          "output_type": "stream",
          "text": [
            "_________________________________________________________________\n",
            "Layer (type)                 Output Shape              Param #   \n",
            "=================================================================\n",
            "flatten_2 (Flatten)          (None, 16384)             0         \n",
            "_________________________________________________________________\n",
            "dense_3 (Dense)              (None, 256)               4194560   \n",
            "_________________________________________________________________\n",
            "dropout_2 (Dropout)          (None, 256)               0         \n",
            "_________________________________________________________________\n",
            "dense_4 (Dense)              (None, 1)                 257       \n",
            "=================================================================\n",
            "Total params: 4,194,817\n",
            "Trainable params: 4,194,817\n",
            "Non-trainable params: 0\n",
            "_________________________________________________________________\n"
          ],
          "name": "stdout"
        }
      ]
    },
    {
      "metadata": {
        "id": "v2AQDrLXK3x1",
        "colab_type": "code",
        "colab": {
          "autoexec": {
            "startup": false,
            "wait_interval": 0
          },
          "base_uri": "https://localhost:8080/",
          "height": 332
        },
        "outputId": "61302a09-002e-4398-ea89-a7fa27447ddc",
        "executionInfo": {
          "status": "ok",
          "timestamp": 1530840165108,
          "user_tz": 300,
          "elapsed": 3414,
          "user": {
            "displayName": "Fabio Gonzalez",
            "photoUrl": "//lh3.googleusercontent.com/-U4IcDwT4dVc/AAAAAAAAAAI/AAAAAAAAAFc/e1b-BRwMwNk/s50-c-k-no/photo.jpg",
            "userId": "104098167961521490884"
          }
        }
      },
      "cell_type": "code",
      "source": [
        "test_datagen = ImageDataGenerator(rescale=1. / 255)\n",
        "\n",
        "validation_generator = test_datagen.flow_from_directory(\n",
        "    validation_data_dir,\n",
        "    target_size=(img_width, img_height),\n",
        "    batch_size=batch_size,\n",
        "    class_mode='binary')\n",
        "\n",
        "for x_batch, y_batch in validation_generator:\n",
        "  print(y_batch)\n",
        "  print(model_1.predict_proba(model.predict(x_batch)))\n",
        "  break\n"
      ],
      "execution_count": 23,
      "outputs": [
        {
          "output_type": "stream",
          "text": [
            "Found 400 images belonging to 2 classes.\n",
            "[0. 1. 0. 0. 1. 1. 1. 0. 0. 0. 1. 1. 0. 1. 1. 0.]\n",
            "[[0.000000e+00]\n",
            " [1.000000e+00]\n",
            " [3.014343e-38]\n",
            " [0.000000e+00]\n",
            " [1.000000e+00]\n",
            " [1.000000e+00]\n",
            " [1.000000e+00]\n",
            " [0.000000e+00]\n",
            " [0.000000e+00]\n",
            " [0.000000e+00]\n",
            " [1.000000e+00]\n",
            " [1.000000e+00]\n",
            " [0.000000e+00]\n",
            " [1.000000e+00]\n",
            " [1.000000e+00]\n",
            " [4.628651e-21]]\n"
          ],
          "name": "stdout"
        }
      ]
    },
    {
      "metadata": {
        "id": "p-7pe2QrLx1L",
        "colab_type": "code",
        "colab": {
          "autoexec": {
            "startup": false,
            "wait_interval": 0
          }
        }
      },
      "cell_type": "code",
      "source": [
        ""
      ],
      "execution_count": 0,
      "outputs": []
    }
  ]
}