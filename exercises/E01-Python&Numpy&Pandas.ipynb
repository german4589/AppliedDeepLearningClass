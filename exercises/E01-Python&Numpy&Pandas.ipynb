{
 "cells": [
  {
   "cell_type": "markdown",
   "metadata": {},
   "source": [
    "# Integrantes:\n",
    "- Jorge Eduardo Rodriguez Cardozo - 200711501\n",
    "- German Augusto Carvajal Murcia -  201313516"
   ]
  },
  {
   "cell_type": "markdown",
   "metadata": {},
   "source": [
    "# Exercise 01.1\n",
    "\n",
    "Create a function that receives two inputs a and b, and returns the product of the a decimal of pi and the b decimal of pi.\n",
    "\n",
    "```\n",
    "i.e, \n",
    "pi = 3.14159\n",
    "if a = 2 and b = 4\n",
    "result = 4 * 5\n",
    "result = 20\n",
    "```\n",
    "\n",
    "Caveats:\n",
    "- a and b are between 1 and 15\n",
    "- decimals positions 1 and 2 are 1 and 4, respectively. (remember that python start indexing in 0)"
   ]
  },
  {
   "cell_type": "code",
   "execution_count": 1,
   "metadata": {},
   "outputs": [],
   "source": [
    "from math import pi\n",
    "def mult_dec_pi(a, b):\n",
    "    # Add the solution here\n",
    "    if a>=1 and a<=15 and b>=1 and b<=15:\n",
    "        result = int(str(pi)[a+1])*int(str(pi)[b+1])\n",
    "    else:\n",
    "        result='Error'\n",
    "    return result"
   ]
  },
  {
   "cell_type": "code",
   "execution_count": 2,
   "metadata": {},
   "outputs": [
    {
     "data": {
      "text/plain": [
       "20"
      ]
     },
     "execution_count": 2,
     "metadata": {},
     "output_type": "execute_result"
    }
   ],
   "source": [
    "mult_dec_pi(a=2, b=4)\n",
    "# 20.0"
   ]
  },
  {
   "cell_type": "code",
   "execution_count": 3,
   "metadata": {},
   "outputs": [
    {
     "data": {
      "text/plain": [
       "45"
      ]
     },
     "execution_count": 3,
     "metadata": {},
     "output_type": "execute_result"
    }
   ],
   "source": [
    "mult_dec_pi(a=5, b=10)\n",
    "# 45.0"
   ]
  },
  {
   "cell_type": "code",
   "execution_count": 4,
   "metadata": {},
   "outputs": [
    {
     "data": {
      "text/plain": [
       "9"
      ]
     },
     "execution_count": 4,
     "metadata": {},
     "output_type": "execute_result"
    }
   ],
   "source": [
    "mult_dec_pi(a=14, b=1)\n",
    "# 9.0"
   ]
  },
  {
   "cell_type": "code",
   "execution_count": 5,
   "metadata": {},
   "outputs": [
    {
     "data": {
      "text/plain": [
       "10"
      ]
     },
     "execution_count": 5,
     "metadata": {},
     "output_type": "execute_result"
    }
   ],
   "source": [
    "mult_dec_pi(a=6, b=8)\n",
    "# 10.0"
   ]
  },
  {
   "cell_type": "code",
   "execution_count": 6,
   "metadata": {},
   "outputs": [
    {
     "data": {
      "text/plain": [
       "'Error'"
      ]
     },
     "execution_count": 6,
     "metadata": {},
     "output_type": "execute_result"
    }
   ],
   "source": [
    "# Bonus\n",
    "mult_dec_pi(a=16, b=4)\n",
    "# 'Error'"
   ]
  },
  {
   "cell_type": "markdown",
   "metadata": {},
   "source": [
    "# Exercise 01.2\n",
    "\n",
    "Using the given dataset. Estimate a linear regression between Employed and GNP.\n",
    "\n",
    "$$Employed = b_0 + b_1 * GNP $$\n",
    "\n",
    "$$\\hat b = (X^TX)^{-1}X^TY$$\n",
    "$$Y = Employed$$\n",
    "$$X = [1  \\quad GNP]$$"
   ]
  },
  {
   "cell_type": "code",
   "execution_count": 7,
   "metadata": {},
   "outputs": [
    {
     "data": {
      "text/plain": [
       "Text(0,0.5,'Employed')"
      ]
     },
     "execution_count": 7,
     "metadata": {},
     "output_type": "execute_result"
    },
    {
     "data": {
      "image/png": "[encoded data removed]",
      "text/plain": [
       "<Figure size 432x288 with 1 Axes>"
      ]
     },
     "metadata": {},
     "output_type": "display_data"
    }
   ],
   "source": [
    "%matplotlib inline\n",
    "import numpy as np\n",
    "import matplotlib.pyplot as plt\n",
    "# Import data\n",
    "raw_data = \"\"\"\n",
    "Year,Employed,GNP\n",
    "1947,60.323,234.289\n",
    "1948,61.122,259.426\n",
    "1949,60.171,258.054\n",
    "1950,61.187,284.599\n",
    "1951,63.221,328.975\n",
    "1952,63.639,346.999\n",
    "1953,64.989,365.385\n",
    "1954,63.761,363.112\n",
    "1955,66.019,397.469\n",
    "1956,67.857,419.18\n",
    "1957,68.169,442.769\n",
    "1958,66.513,444.546\n",
    "1959,68.655,482.704\n",
    "1960,69.564,502.601\n",
    "1961,69.331,518.173\n",
    "1962,70.551,554.894\"\"\"\n",
    "\n",
    "data = []\n",
    "for line in raw_data.splitlines()[2:]:\n",
    "    words = line.split(',')\n",
    "    data.append(words)\n",
    "data = np.array(data, dtype=np.float)\n",
    "n_obs = data.shape[0]\n",
    "plt.plot(data[:, 2], data[:, 1], 'bo')\n",
    "plt.xlabel(\"GNP\")\n",
    "plt.ylabel(\"Employed\")"
   ]
  },
  {
   "cell_type": "code",
   "execution_count": 8,
   "metadata": {},
   "outputs": [
    {
     "name": "stdout",
     "output_type": "stream",
     "text": [
      "[[5.18435898e+01]\n",
      " [3.47522943e-02]]\n"
     ]
    }
   ],
   "source": [
    "X=np.matrix(np.hstack((np.ones((16,1)),data[:,2].reshape(16,1))))\n",
    "Y=np.matrix(data[:,1].reshape(16,1))\n",
    "beta=np.linalg.inv(np.transpose(X)*X)*(np.transpose(X)*Y)\n",
    "print(beta)"
   ]
  },
  {
   "cell_type": "markdown",
   "metadata": {},
   "source": [
    "# Exercise 01.3\n",
    "\n",
    "Analyze the baby names dataset using pandas"
   ]
  },
  {
   "cell_type": "code",
   "execution_count": 10,
   "metadata": {},
   "outputs": [],
   "source": [
    "import pandas as pd\n",
    "# Load dataset\n",
    "import zipfile\n",
    "with zipfile.ZipFile('/Users/germancarvajal/Dropbox/Universidad-201818/Deep_learning_y_redes_neuronales/AppliedDeepLearningClass-master/datasets/baby-names2.csv.zip', 'r') as z:\n",
    "    f = z.open('baby-names2.csv')\n",
    "    names = pd.io.parsers.read_table(f, sep=',')"
   ]
  },
  {
   "cell_type": "code",
   "execution_count": 11,
   "metadata": {},
   "outputs": [
    {
     "data": {
      "text/html": [
       "<div>\n",
       "<style scoped>\n",
       "    .dataframe tbody tr th:only-of-type {\n",
       "        vertical-align: middle;\n",
       "    }\n",
       "\n",
       "    .dataframe tbody tr th {\n",
       "        vertical-align: top;\n",
       "    }\n",
       "\n",
       "    .dataframe thead th {\n",
       "        text-align: right;\n",
       "    }\n",
       "</style>\n",
       "<table border=\"1\" class=\"dataframe\">\n",
       "  <thead>\n",
       "    <tr style=\"text-align: right;\">\n",
       "      <th></th>\n",
       "      <th>year</th>\n",
       "      <th>name</th>\n",
       "      <th>prop</th>\n",
       "      <th>sex</th>\n",
       "      <th>soundex</th>\n",
       "    </tr>\n",
       "  </thead>\n",
       "  <tbody>\n",
       "    <tr>\n",
       "      <th>0</th>\n",
       "      <td>1880</td>\n",
       "      <td>John</td>\n",
       "      <td>0.081541</td>\n",
       "      <td>boy</td>\n",
       "      <td>J500</td>\n",
       "    </tr>\n",
       "    <tr>\n",
       "      <th>1</th>\n",
       "      <td>1880</td>\n",
       "      <td>William</td>\n",
       "      <td>0.080511</td>\n",
       "      <td>boy</td>\n",
       "      <td>W450</td>\n",
       "    </tr>\n",
       "    <tr>\n",
       "      <th>2</th>\n",
       "      <td>1880</td>\n",
       "      <td>James</td>\n",
       "      <td>0.050057</td>\n",
       "      <td>boy</td>\n",
       "      <td>J520</td>\n",
       "    </tr>\n",
       "    <tr>\n",
       "      <th>3</th>\n",
       "      <td>1880</td>\n",
       "      <td>Charles</td>\n",
       "      <td>0.045167</td>\n",
       "      <td>boy</td>\n",
       "      <td>C642</td>\n",
       "    </tr>\n",
       "    <tr>\n",
       "      <th>4</th>\n",
       "      <td>1880</td>\n",
       "      <td>George</td>\n",
       "      <td>0.043292</td>\n",
       "      <td>boy</td>\n",
       "      <td>G620</td>\n",
       "    </tr>\n",
       "  </tbody>\n",
       "</table>\n",
       "</div>"
      ],
      "text/plain": [
       "   year     name      prop  sex soundex\n",
       "0  1880     John  0.081541  boy    J500\n",
       "1  1880  William  0.080511  boy    W450\n",
       "2  1880    James  0.050057  boy    J520\n",
       "3  1880  Charles  0.045167  boy    C642\n",
       "4  1880   George  0.043292  boy    G620"
      ]
     },
     "execution_count": 11,
     "metadata": {},
     "output_type": "execute_result"
    }
   ],
   "source": [
    "names.head()"
   ]
  },
  {
   "cell_type": "code",
   "execution_count": 12,
   "metadata": {
    "scrolled": true
   },
   "outputs": [
    {
     "data": {
      "text/html": [
       "<div>\n",
       "<style scoped>\n",
       "    .dataframe tbody tr th:only-of-type {\n",
       "        vertical-align: middle;\n",
       "    }\n",
       "\n",
       "    .dataframe tbody tr th {\n",
       "        vertical-align: top;\n",
       "    }\n",
       "\n",
       "    .dataframe thead th {\n",
       "        text-align: right;\n",
       "    }\n",
       "</style>\n",
       "<table border=\"1\" class=\"dataframe\">\n",
       "  <thead>\n",
       "    <tr style=\"text-align: right;\">\n",
       "      <th></th>\n",
       "      <th>year</th>\n",
       "      <th>name</th>\n",
       "      <th>prop</th>\n",
       "      <th>sex</th>\n",
       "      <th>soundex</th>\n",
       "    </tr>\n",
       "  </thead>\n",
       "  <tbody>\n",
       "    <tr>\n",
       "      <th>113000</th>\n",
       "      <td>1993</td>\n",
       "      <td>Michael</td>\n",
       "      <td>0.024010</td>\n",
       "      <td>boy</td>\n",
       "      <td>M240</td>\n",
       "    </tr>\n",
       "    <tr>\n",
       "      <th>113001</th>\n",
       "      <td>1993</td>\n",
       "      <td>Christopher</td>\n",
       "      <td>0.018572</td>\n",
       "      <td>boy</td>\n",
       "      <td>C623</td>\n",
       "    </tr>\n",
       "    <tr>\n",
       "      <th>113002</th>\n",
       "      <td>1993</td>\n",
       "      <td>Matthew</td>\n",
       "      <td>0.017332</td>\n",
       "      <td>boy</td>\n",
       "      <td>M300</td>\n",
       "    </tr>\n",
       "    <tr>\n",
       "      <th>113003</th>\n",
       "      <td>1993</td>\n",
       "      <td>Joshua</td>\n",
       "      <td>0.016268</td>\n",
       "      <td>boy</td>\n",
       "      <td>J200</td>\n",
       "    </tr>\n",
       "    <tr>\n",
       "      <th>113004</th>\n",
       "      <td>1993</td>\n",
       "      <td>Tyler</td>\n",
       "      <td>0.014439</td>\n",
       "      <td>boy</td>\n",
       "      <td>T460</td>\n",
       "    </tr>\n",
       "  </tbody>\n",
       "</table>\n",
       "</div>"
      ],
      "text/plain": [
       "        year         name      prop  sex soundex\n",
       "113000  1993      Michael  0.024010  boy    M240\n",
       "113001  1993  Christopher  0.018572  boy    C623\n",
       "113002  1993      Matthew  0.017332  boy    M300\n",
       "113003  1993       Joshua  0.016268  boy    J200\n",
       "113004  1993        Tyler  0.014439  boy    T460"
      ]
     },
     "execution_count": 12,
     "metadata": {},
     "output_type": "execute_result"
    }
   ],
   "source": [
    "names[names.year == 1993].head()"
   ]
  },
  {
   "cell_type": "markdown",
   "metadata": {},
   "source": [
    "### segment the data into boy and girl names"
   ]
  },
  {
   "cell_type": "code",
   "execution_count": 13,
   "metadata": {},
   "outputs": [],
   "source": [
    "boys = names[names.sex == 'boy'].copy()\n",
    "girls = names[names.sex == 'girl'].copy()"
   ]
  },
  {
   "cell_type": "markdown",
   "metadata": {},
   "source": [
    "### Analyzing the popularity of a name over time"
   ]
  },
  {
   "cell_type": "code",
   "execution_count": 14,
   "metadata": {},
   "outputs": [
    {
     "data": {
      "image/png": "[encoded data removed]",
      "text/plain": [
       "<Figure size 432x288 with 1 Axes>"
      ]
     },
     "metadata": {},
     "output_type": "display_data"
    }
   ],
   "source": [
    "william = boys[boys['name']=='William']\n",
    "plt.plot(range(william.shape[0]), william['prop'])\n",
    "plt.xticks(range(william.shape[0])[::5], william['year'].values[::5], rotation='vertical')\n",
    "plt.ylim([0, 0.1])\n",
    "plt.show()"
   ]
  },
  {
   "cell_type": "code",
   "execution_count": 15,
   "metadata": {},
   "outputs": [
    {
     "data": {
      "image/png": "[encoded data removed]",
      "text/plain": [
       "<Figure size 432x288 with 1 Axes>"
      ]
     },
     "metadata": {},
     "output_type": "display_data"
    }
   ],
   "source": [
    "Daniel = boys[boys['name']=='Daniel']\n",
    "\n",
    "plt.plot(range(Daniel.shape[0]), Daniel['prop'])\n",
    "plt.xticks(range(Daniel.shape[0])[::5], Daniel['year'].values[::5], rotation='vertical')\n",
    "plt.ylim([0, 0.1])\n",
    "plt.show()"
   ]
  },
  {
   "cell_type": "markdown",
   "metadata": {},
   "source": [
    "# Exercise 01.3\n",
    "\n",
    "Which has been the most popular boy name every decade?"
   ]
  },
  {
   "cell_type": "code",
   "execution_count": 16,
   "metadata": {},
   "outputs": [
    {
     "data": {
      "text/html": [
       "<div>\n",
       "<style scoped>\n",
       "    .dataframe tbody tr th:only-of-type {\n",
       "        vertical-align: middle;\n",
       "    }\n",
       "\n",
       "    .dataframe tbody tr th {\n",
       "        vertical-align: top;\n",
       "    }\n",
       "\n",
       "    .dataframe thead th {\n",
       "        text-align: right;\n",
       "    }\n",
       "</style>\n",
       "<table border=\"1\" class=\"dataframe\">\n",
       "  <thead>\n",
       "    <tr style=\"text-align: right;\">\n",
       "      <th></th>\n",
       "      <th>decade</th>\n",
       "      <th>name</th>\n",
       "    </tr>\n",
       "  </thead>\n",
       "  <tbody>\n",
       "    <tr>\n",
       "      <th>0</th>\n",
       "      <td>[1880, 1890)</td>\n",
       "      <td>John</td>\n",
       "    </tr>\n",
       "    <tr>\n",
       "      <th>10000</th>\n",
       "      <td>[1890, 1900)</td>\n",
       "      <td>John</td>\n",
       "    </tr>\n",
       "    <tr>\n",
       "      <th>20000</th>\n",
       "      <td>[1900, 1910)</td>\n",
       "      <td>John</td>\n",
       "    </tr>\n",
       "    <tr>\n",
       "      <th>31000</th>\n",
       "      <td>[1910, 1920)</td>\n",
       "      <td>John</td>\n",
       "    </tr>\n",
       "    <tr>\n",
       "      <th>49000</th>\n",
       "      <td>[1920, 1930)</td>\n",
       "      <td>Robert</td>\n",
       "    </tr>\n",
       "    <tr>\n",
       "      <th>51000</th>\n",
       "      <td>[1930, 1940)</td>\n",
       "      <td>Robert</td>\n",
       "    </tr>\n",
       "    <tr>\n",
       "      <th>64000</th>\n",
       "      <td>[1940, 1950)</td>\n",
       "      <td>James</td>\n",
       "    </tr>\n",
       "    <tr>\n",
       "      <th>70000</th>\n",
       "      <td>[1950, 1960)</td>\n",
       "      <td>James</td>\n",
       "    </tr>\n",
       "    <tr>\n",
       "      <th>89000</th>\n",
       "      <td>[1960, 1970)</td>\n",
       "      <td>Michael</td>\n",
       "    </tr>\n",
       "    <tr>\n",
       "      <th>90000</th>\n",
       "      <td>[1970, 1980)</td>\n",
       "      <td>Michael</td>\n",
       "    </tr>\n",
       "    <tr>\n",
       "      <th>100000</th>\n",
       "      <td>[1980, 1990)</td>\n",
       "      <td>Michael</td>\n",
       "    </tr>\n",
       "    <tr>\n",
       "      <th>110000</th>\n",
       "      <td>[1990, 2000)</td>\n",
       "      <td>Michael</td>\n",
       "    </tr>\n",
       "    <tr>\n",
       "      <th>120000</th>\n",
       "      <td>[2000, 2010)</td>\n",
       "      <td>Jacob</td>\n",
       "    </tr>\n",
       "  </tbody>\n",
       "</table>\n",
       "</div>"
      ],
      "text/plain": [
       "              decade     name\n",
       "0       [1880, 1890)     John\n",
       "10000   [1890, 1900)     John\n",
       "20000   [1900, 1910)     John\n",
       "31000   [1910, 1920)     John\n",
       "49000   [1920, 1930)   Robert\n",
       "51000   [1930, 1940)   Robert\n",
       "64000   [1940, 1950)    James\n",
       "70000   [1950, 1960)    James\n",
       "89000   [1960, 1970)  Michael\n",
       "90000   [1970, 1980)  Michael\n",
       "100000  [1980, 1990)  Michael\n",
       "110000  [1990, 2000)  Michael\n",
       "120000  [2000, 2010)    Jacob"
      ]
     },
     "execution_count": 16,
     "metadata": {},
     "output_type": "execute_result"
    }
   ],
   "source": [
    "import math\n",
    "boys['decade']=pd.cut(boys['year'].values,range(math.floor(min(boys['year'])/10)*10,math.ceil(max(boys['year'])/10)*10+10,10),False)\n",
    "boys[boys.groupby(by=['decade'])['prop'].transform(max)==boys['prop']][['decade','name']]"
   ]
  },
  {
   "cell_type": "markdown",
   "metadata": {},
   "source": [
    "# Exercise 01.4\n",
    "\n",
    "Which has been the most popular girl name?\n",
    "\n",
    "**Solution assumption: popularity is measured as the average observed proportion of births over the years for each name. When there is no registered births under a name in a year, the proportion is supposed to be 0 in that particular year.**"
   ]
  },
  {
   "cell_type": "code",
   "execution_count": 309,
   "metadata": {},
   "outputs": [
    {
     "data": {
      "text/html": [
       "<div>\n",
       "<style scoped>\n",
       "    .dataframe tbody tr th:only-of-type {\n",
       "        vertical-align: middle;\n",
       "    }\n",
       "\n",
       "    .dataframe tbody tr th {\n",
       "        vertical-align: top;\n",
       "    }\n",
       "\n",
       "    .dataframe thead th {\n",
       "        text-align: right;\n",
       "    }\n",
       "</style>\n",
       "<table border=\"1\" class=\"dataframe\">\n",
       "  <thead>\n",
       "    <tr style=\"text-align: right;\">\n",
       "      <th></th>\n",
       "      <th>name</th>\n",
       "    </tr>\n",
       "  </thead>\n",
       "  <tbody>\n",
       "    <tr>\n",
       "      <th>2729</th>\n",
       "      <td>Mary</td>\n",
       "    </tr>\n",
       "  </tbody>\n",
       "</table>\n",
       "</div>"
      ],
      "text/plain": [
       "      name\n",
       "2729  Mary"
      ]
     },
     "execution_count": 309,
     "metadata": {},
     "output_type": "execute_result"
    }
   ],
   "source": [
    "h=girls.pivot(index='name',columns='year',values='prop').fillna(0).mean(axis=1).reset_index()\n",
    "h[h[0]==max(h[0])][['name']]"
   ]
  },
  {
   "cell_type": "markdown",
   "metadata": {},
   "source": [
    "# Exercise 01.5\n",
    "\n",
    "What is the most popular new girl name? (new is a name that appears only in the 2000's)\n",
    "\n",
    "**Solution assumption: popularity is measured as the average observed proportion of births over the years for each name. When there is no registered births under a name in a year, the proportion is supposed to be 0 in that particular year.**"
   ]
  },
  {
   "cell_type": "code",
   "execution_count": 310,
   "metadata": {},
   "outputs": [
    {
     "data": {
      "text/html": [
       "<div>\n",
       "<style scoped>\n",
       "    .dataframe tbody tr th:only-of-type {\n",
       "        vertical-align: middle;\n",
       "    }\n",
       "\n",
       "    .dataframe tbody tr th {\n",
       "        vertical-align: top;\n",
       "    }\n",
       "\n",
       "    .dataframe thead th {\n",
       "        text-align: right;\n",
       "    }\n",
       "</style>\n",
       "<table border=\"1\" class=\"dataframe\">\n",
       "  <thead>\n",
       "    <tr style=\"text-align: right;\">\n",
       "      <th></th>\n",
       "      <th>name</th>\n",
       "    </tr>\n",
       "  </thead>\n",
       "  <tbody>\n",
       "    <tr>\n",
       "      <th>203</th>\n",
       "      <td>Nevaeh</td>\n",
       "    </tr>\n",
       "  </tbody>\n",
       "</table>\n",
       "</div>"
      ],
      "text/plain": [
       "       name\n",
       "203  Nevaeh"
      ]
     },
     "execution_count": 310,
     "metadata": {},
     "output_type": "execute_result"
    }
   ],
   "source": [
    "new=pd.merge(girls[girls['year']>=2000],girls[girls['year']<2000], on='name',how='left')\n",
    "new=new[pd.isnull(new['year_y'])]\n",
    "h=new.pivot(index='name',columns='year_x',values='prop_x').fillna(0).mean(axis=1).reset_index()\n",
    "h[h[0]==max(h[0])][['name']]"
   ]
  }
 ],
 "metadata": {
  "kernelspec": {
   "display_name": "Python 3",
   "language": "python",
   "name": "python3"
  },
  "language_info": {
   "codemirror_mode": {
    "name": "ipython",
    "version": 3
   },
   "file_extension": ".py",
   "mimetype": "text/x-python",
   "name": "python",
   "nbconvert_exporter": "python",
   "pygments_lexer": "ipython3",
   "version": "3.6.5"
  }
 },
 "nbformat": 4,
 "nbformat_minor": 2
}
