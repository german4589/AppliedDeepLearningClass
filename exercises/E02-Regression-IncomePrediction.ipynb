{
 "cells": [
  {
   "cell_type": "markdown",
   "metadata": {},
   "source": [
    "# Integrantes:\n",
    "- Jorge Eduardo Rodriguez Cardozo - 200711501\n",
    "- German Augusto Carvajal Murcia -  201313516"
   ]
  },
  {
   "cell_type": "markdown",
   "metadata": {},
   "source": [
    "# Exercise 02\n",
    "\n",
    "Estimate a regression using the Income data\n",
    "\n",
    "\n",
    "## Forecast of income\n",
    "\n",
    "We'll be working with a dataset from US Census indome ([data dictionary](https://archive.ics.uci.edu/ml/datasets/Adult)).\n",
    "\n",
    "Many businesses would like to personalize their offer based on customer’s income. High-income customers could be, for instance, exposed to premium products. As a customer’s income is not always explicitly known, predictive model could estimate income of a person based on other information.\n",
    "\n",
    "Our goal is to create a predictive model that will be able to output an estimation of a person income."
   ]
  },
  {
   "cell_type": "code",
   "execution_count": 1,
   "metadata": {},
   "outputs": [
    {
     "data": {
      "text/html": [
       "<div>\n",
       "<style scoped>\n",
       "    .dataframe tbody tr th:only-of-type {\n",
       "        vertical-align: middle;\n",
       "    }\n",
       "\n",
       "    .dataframe tbody tr th {\n",
       "        vertical-align: top;\n",
       "    }\n",
       "\n",
       "    .dataframe thead th {\n",
       "        text-align: right;\n",
       "    }\n",
       "</style>\n",
       "<table border=\"1\" class=\"dataframe\">\n",
       "  <thead>\n",
       "    <tr style=\"text-align: right;\">\n",
       "      <th></th>\n",
       "      <th>Age</th>\n",
       "      <th>Workclass</th>\n",
       "      <th>fnlwgt</th>\n",
       "      <th>Education</th>\n",
       "      <th>Education-Num</th>\n",
       "      <th>Martial Status</th>\n",
       "      <th>Occupation</th>\n",
       "      <th>Relationship</th>\n",
       "      <th>Race</th>\n",
       "      <th>Sex</th>\n",
       "      <th>Capital Gain</th>\n",
       "      <th>Capital Loss</th>\n",
       "      <th>Hours per week</th>\n",
       "      <th>Country</th>\n",
       "      <th>Income</th>\n",
       "    </tr>\n",
       "  </thead>\n",
       "  <tbody>\n",
       "    <tr>\n",
       "      <th>0</th>\n",
       "      <td>39</td>\n",
       "      <td>State-gov</td>\n",
       "      <td>77516</td>\n",
       "      <td>Bachelors</td>\n",
       "      <td>13</td>\n",
       "      <td>Never-married</td>\n",
       "      <td>Adm-clerical</td>\n",
       "      <td>Not-in-family</td>\n",
       "      <td>White</td>\n",
       "      <td>Male</td>\n",
       "      <td>2174</td>\n",
       "      <td>0</td>\n",
       "      <td>40</td>\n",
       "      <td>United-States</td>\n",
       "      <td>51806.0</td>\n",
       "    </tr>\n",
       "    <tr>\n",
       "      <th>1</th>\n",
       "      <td>50</td>\n",
       "      <td>Self-emp-not-inc</td>\n",
       "      <td>83311</td>\n",
       "      <td>Bachelors</td>\n",
       "      <td>13</td>\n",
       "      <td>Married-civ-spouse</td>\n",
       "      <td>Exec-managerial</td>\n",
       "      <td>Husband</td>\n",
       "      <td>White</td>\n",
       "      <td>Male</td>\n",
       "      <td>0</td>\n",
       "      <td>0</td>\n",
       "      <td>13</td>\n",
       "      <td>United-States</td>\n",
       "      <td>68719.0</td>\n",
       "    </tr>\n",
       "    <tr>\n",
       "      <th>2</th>\n",
       "      <td>38</td>\n",
       "      <td>Private</td>\n",
       "      <td>215646</td>\n",
       "      <td>HS-grad</td>\n",
       "      <td>9</td>\n",
       "      <td>Divorced</td>\n",
       "      <td>Handlers-cleaners</td>\n",
       "      <td>Not-in-family</td>\n",
       "      <td>White</td>\n",
       "      <td>Male</td>\n",
       "      <td>0</td>\n",
       "      <td>0</td>\n",
       "      <td>40</td>\n",
       "      <td>United-States</td>\n",
       "      <td>51255.0</td>\n",
       "    </tr>\n",
       "    <tr>\n",
       "      <th>3</th>\n",
       "      <td>53</td>\n",
       "      <td>Private</td>\n",
       "      <td>234721</td>\n",
       "      <td>11th</td>\n",
       "      <td>7</td>\n",
       "      <td>Married-civ-spouse</td>\n",
       "      <td>Handlers-cleaners</td>\n",
       "      <td>Husband</td>\n",
       "      <td>Black</td>\n",
       "      <td>Male</td>\n",
       "      <td>0</td>\n",
       "      <td>0</td>\n",
       "      <td>40</td>\n",
       "      <td>United-States</td>\n",
       "      <td>47398.0</td>\n",
       "    </tr>\n",
       "    <tr>\n",
       "      <th>4</th>\n",
       "      <td>28</td>\n",
       "      <td>Private</td>\n",
       "      <td>338409</td>\n",
       "      <td>Bachelors</td>\n",
       "      <td>13</td>\n",
       "      <td>Married-civ-spouse</td>\n",
       "      <td>Prof-specialty</td>\n",
       "      <td>Wife</td>\n",
       "      <td>Black</td>\n",
       "      <td>Female</td>\n",
       "      <td>0</td>\n",
       "      <td>0</td>\n",
       "      <td>40</td>\n",
       "      <td>Cuba</td>\n",
       "      <td>30493.0</td>\n",
       "    </tr>\n",
       "  </tbody>\n",
       "</table>\n",
       "</div>"
      ],
      "text/plain": [
       "   Age         Workclass  fnlwgt  Education  Education-Num  \\\n",
       "0   39         State-gov   77516  Bachelors             13   \n",
       "1   50  Self-emp-not-inc   83311  Bachelors             13   \n",
       "2   38           Private  215646    HS-grad              9   \n",
       "3   53           Private  234721       11th              7   \n",
       "4   28           Private  338409  Bachelors             13   \n",
       "\n",
       "       Martial Status         Occupation   Relationship   Race     Sex  \\\n",
       "0       Never-married       Adm-clerical  Not-in-family  White    Male   \n",
       "1  Married-civ-spouse    Exec-managerial        Husband  White    Male   \n",
       "2            Divorced  Handlers-cleaners  Not-in-family  White    Male   \n",
       "3  Married-civ-spouse  Handlers-cleaners        Husband  Black    Male   \n",
       "4  Married-civ-spouse     Prof-specialty           Wife  Black  Female   \n",
       "\n",
       "   Capital Gain  Capital Loss  Hours per week        Country   Income  \n",
       "0          2174             0              40  United-States  51806.0  \n",
       "1             0             0              13  United-States  68719.0  \n",
       "2             0             0              40  United-States  51255.0  \n",
       "3             0             0              40  United-States  47398.0  \n",
       "4             0             0              40           Cuba  30493.0  "
      ]
     },
     "execution_count": 1,
     "metadata": {},
     "output_type": "execute_result"
    }
   ],
   "source": [
    "import pandas as pd\n",
    "import numpy as np\n",
    "\n",
    "%matplotlib inline\n",
    "import matplotlib.pyplot as plt\n",
    "\n",
    "# read the data and set the datetime as the index\n",
    "import zipfile\n",
    "with zipfile.ZipFile('/Users/germancarvajal/Dropbox/Universidad-201818/Deep_learning_y_redes_neuronales/AppliedDeepLearningClass/datasets/income.csv.zip', 'r') as z:\n",
    "    f = z.open('income.csv')\n",
    "    income = pd.read_csv(f, index_col=0)\n",
    "\n",
    "income.head()"
   ]
  },
  {
   "cell_type": "code",
   "execution_count": 2,
   "metadata": {
    "scrolled": true
   },
   "outputs": [
    {
     "data": {
      "text/plain": [
       "(32561, 15)"
      ]
     },
     "execution_count": 2,
     "metadata": {},
     "output_type": "execute_result"
    }
   ],
   "source": [
    "income.shape"
   ]
  },
  {
   "cell_type": "markdown",
   "metadata": {},
   "source": [
    "# Exercise 2.1 \n",
    "\n",
    "What is the relation between the age and Income?\n",
    "\n",
    "For a one percent increase in the Age how much the income increases?\n",
    "\n",
    "Using sklearn estimate a linear regression and predict the income when the Age is 30 and 40 years"
   ]
  },
  {
   "cell_type": "code",
   "execution_count": 3,
   "metadata": {},
   "outputs": [
    {
     "data": {
      "text/plain": [
       "<matplotlib.axes._subplots.AxesSubplot at 0x108f2b3c8>"
      ]
     },
     "execution_count": 3,
     "metadata": {},
     "output_type": "execute_result"
    },
    {
     "data": {
      "image/png": "[encoded data removed]",
      "text/plain": [
       "<Figure size 432x288 with 1 Axes>"
      ]
     },
     "metadata": {},
     "output_type": "display_data"
    }
   ],
   "source": [
    "income.plot(x='Age', y='Income', kind='scatter')"
   ]
  },
  {
   "cell_type": "code",
   "execution_count": 5,
   "metadata": {},
   "outputs": [
    {
     "name": "stdout",
     "output_type": "stream",
     "text": [
      "[[23867.16759366]]\n",
      "[-32212.03803845]\n"
     ]
    }
   ],
   "source": [
    "X=np.log(income[['Age']].values)\n",
    "Y=income[['Income']].values\n",
    "from sklearn.linear_model import LinearRegression\n",
    "logreg = LinearRegression(fit_intercept=True)\n",
    "logreg.fit(X,Y)\n",
    "print(logreg.coef_)\n",
    "print(logreg.intercept_)"
   ]
  },
  {
   "cell_type": "markdown",
   "metadata": {},
   "source": [
    "Running a regression of the form $$ Income_i=\\beta_0+\\beta_1*log(Age_i)+\\epsilon_i $$\n",
    "\n",
    "is possible to state that a 1% increase in the age is associated with a USD$238 increase in the income"
   ]
  },
  {
   "cell_type": "code",
   "execution_count": 9,
   "metadata": {},
   "outputs": [
    {
     "data": {
      "text/plain": [
       "array([[48803.11784304],\n",
       "       [54224.79441376]])"
      ]
     },
     "execution_count": 9,
     "metadata": {},
     "output_type": "execute_result"
    }
   ],
   "source": [
    "X=income[['Age']].values\n",
    "Y=income[['Income']].values\n",
    "from sklearn.linear_model import LinearRegression\n",
    "linreg = LinearRegression(fit_intercept=True)\n",
    "linreg.fit(X,Y)\n",
    "linreg.predict(np.array([30,40]).reshape(-1,1))"
   ]
  },
  {
   "cell_type": "markdown",
   "metadata": {},
   "source": [
    "Running a regression of the form $$ Income_i=\\beta_0+\\beta_1*Age_i+\\epsilon_i $$\n",
    "\n",
    "is possible to state on average a person with 30 years has an income of USD43381, whilst a 40 year old should have an expected income of USD$48803"
   ]
  },
  {
   "cell_type": "markdown",
   "metadata": {},
   "source": [
    "# Exercise 2.2\n",
    "Evaluate the model using the MSE"
   ]
  },
  {
   "cell_type": "code",
   "execution_count": 10,
   "metadata": {
    "scrolled": true
   },
   "outputs": [
    {
     "name": "stdout",
     "output_type": "stream",
     "text": [
      "MSE: 593783043.8402297\n"
     ]
    }
   ],
   "source": [
    "from sklearn import metrics\n",
    "print('MSE:', metrics.mean_squared_error(Y, linreg.predict(X)))"
   ]
  },
  {
   "cell_type": "markdown",
   "metadata": {},
   "source": [
    "\n",
    "# Exercise 2.3\n",
    "\n",
    "Run a regression model using as features the Age and Age$^2$ using the OLS equations"
   ]
  },
  {
   "cell_type": "code",
   "execution_count": 11,
   "metadata": {},
   "outputs": [
    {
     "name": "stdout",
     "output_type": "stream",
     "text": [
      "[[3131.77014151  -30.54341041]]\n",
      "[-16225.07097408]\n"
     ]
    }
   ],
   "source": [
    "X=income[['Age']].values\n",
    "X=np.hstack((X,np.square(X)))\n",
    "linreg2 = LinearRegression(fit_intercept=True)\n",
    "linreg2.fit(X,Y)\n",
    "print(linreg2.coef_)\n",
    "print(linreg2.intercept_)"
   ]
  },
  {
   "cell_type": "markdown",
   "metadata": {},
   "source": [
    "Running a regression of the form $$ Income_i=\\beta_0+\\beta_1*Age_i+\\beta_2*Age_i^2+\\epsilon_i $$"
   ]
  },
  {
   "cell_type": "code",
   "execution_count": 8,
   "metadata": {
    "scrolled": false
   },
   "outputs": [
    {
     "data": {
      "image/png": "[encoded data removed]",
      "text/plain": [
       "<Figure size 432x288 with 1 Axes>"
      ]
     },
     "metadata": {},
     "output_type": "display_data"
    }
   ],
   "source": [
    "X=income[['Age']].values\n",
    "plt.scatter(X, Y)\n",
    "X2=np.arange(15,95,5).reshape(-1,1)\n",
    "X2=np.hstack((X2,np.square(X2)))\n",
    "plt.plot(range(15,95,5), linreg2.predict(X2) , color='black')\n",
    "plt.show()"
   ]
  },
  {
   "cell_type": "markdown",
   "metadata": {},
   "source": [
    "# Exercise 2.4\n",
    "\n",
    "\n",
    "Estimate a regression using more features.\n",
    "\n",
    "How is the performance compared to using only the Age?"
   ]
  },
  {
   "cell_type": "code",
   "execution_count": 12,
   "metadata": {},
   "outputs": [],
   "source": [
    "X=income[['Age','Education-Num']].copy()\n",
    "X=X.join(pd.get_dummies(income[['Martial Status']]))\n",
    "X=X.join(pd.get_dummies(income[['Race']]))\n",
    "X=X.join(pd.get_dummies(income[['Sex']]))\n",
    "X=X.drop('Martial Status_Never-married',axis=1)\n",
    "X=X.drop('Race_White',axis=1)\n",
    "X=X.drop('Sex_Male',axis=1)\n",
    "X['Age2']=np.square(income.Age)"
   ]
  },
  {
   "cell_type": "code",
   "execution_count": 13,
   "metadata": {},
   "outputs": [
    {
     "data": {
      "text/html": [
       "<div>\n",
       "<style scoped>\n",
       "    .dataframe tbody tr th:only-of-type {\n",
       "        vertical-align: middle;\n",
       "    }\n",
       "\n",
       "    .dataframe tbody tr th {\n",
       "        vertical-align: top;\n",
       "    }\n",
       "\n",
       "    .dataframe thead th {\n",
       "        text-align: right;\n",
       "    }\n",
       "</style>\n",
       "<table border=\"1\" class=\"dataframe\">\n",
       "  <thead>\n",
       "    <tr style=\"text-align: right;\">\n",
       "      <th></th>\n",
       "      <th>Features</th>\n",
       "      <th>Coefficients</th>\n",
       "    </tr>\n",
       "  </thead>\n",
       "  <tbody>\n",
       "    <tr>\n",
       "      <th>0</th>\n",
       "      <td>Age</td>\n",
       "      <td>1638.125249</td>\n",
       "    </tr>\n",
       "    <tr>\n",
       "      <th>1</th>\n",
       "      <td>Education-Num</td>\n",
       "      <td>3703.502871</td>\n",
       "    </tr>\n",
       "    <tr>\n",
       "      <th>2</th>\n",
       "      <td>Martial Status_Divorced</td>\n",
       "      <td>-1720.595637</td>\n",
       "    </tr>\n",
       "    <tr>\n",
       "      <th>3</th>\n",
       "      <td>Martial Status_Married-AF-spouse</td>\n",
       "      <td>12748.521520</td>\n",
       "    </tr>\n",
       "    <tr>\n",
       "      <th>4</th>\n",
       "      <td>Martial Status_Married-civ-spouse</td>\n",
       "      <td>12250.115558</td>\n",
       "    </tr>\n",
       "    <tr>\n",
       "      <th>5</th>\n",
       "      <td>Martial Status_Married-spouse-absent</td>\n",
       "      <td>49.249023</td>\n",
       "    </tr>\n",
       "    <tr>\n",
       "      <th>6</th>\n",
       "      <td>Martial Status_Separated</td>\n",
       "      <td>-333.541963</td>\n",
       "    </tr>\n",
       "    <tr>\n",
       "      <th>7</th>\n",
       "      <td>Martial Status_Widowed</td>\n",
       "      <td>-599.574616</td>\n",
       "    </tr>\n",
       "    <tr>\n",
       "      <th>8</th>\n",
       "      <td>Race_Amer-Indian-Eskimo</td>\n",
       "      <td>-3028.825058</td>\n",
       "    </tr>\n",
       "    <tr>\n",
       "      <th>9</th>\n",
       "      <td>Race_Asian-Pac-Islander</td>\n",
       "      <td>-1055.936405</td>\n",
       "    </tr>\n",
       "    <tr>\n",
       "      <th>10</th>\n",
       "      <td>Race_Black</td>\n",
       "      <td>-1516.647269</td>\n",
       "    </tr>\n",
       "    <tr>\n",
       "      <th>11</th>\n",
       "      <td>Race_Other</td>\n",
       "      <td>-1778.375039</td>\n",
       "    </tr>\n",
       "    <tr>\n",
       "      <th>12</th>\n",
       "      <td>Sex_Female</td>\n",
       "      <td>-15781.660704</td>\n",
       "    </tr>\n",
       "    <tr>\n",
       "      <th>13</th>\n",
       "      <td>Age2</td>\n",
       "      <td>-15.387005</td>\n",
       "    </tr>\n",
       "  </tbody>\n",
       "</table>\n",
       "</div>"
      ],
      "text/plain": [
       "                                Features  Coefficients\n",
       "0                                    Age   1638.125249\n",
       "1                          Education-Num   3703.502871\n",
       "2                Martial Status_Divorced  -1720.595637\n",
       "3       Martial Status_Married-AF-spouse  12748.521520\n",
       "4      Martial Status_Married-civ-spouse  12250.115558\n",
       "5   Martial Status_Married-spouse-absent     49.249023\n",
       "6               Martial Status_Separated   -333.541963\n",
       "7                 Martial Status_Widowed   -599.574616\n",
       "8                Race_Amer-Indian-Eskimo  -3028.825058\n",
       "9                Race_Asian-Pac-Islander  -1055.936405\n",
       "10                            Race_Black  -1516.647269\n",
       "11                            Race_Other  -1778.375039\n",
       "12                            Sex_Female -15781.660704\n",
       "13                                  Age2    -15.387005"
      ]
     },
     "execution_count": 13,
     "metadata": {},
     "output_type": "execute_result"
    }
   ],
   "source": [
    "linreg3 = LinearRegression(fit_intercept=True)\n",
    "linreg3.fit(X,Y)\n",
    "m=pd.DataFrame(X.columns,columns=['Features'])\n",
    "m['Coefficients']=linreg3.coef_.reshape(-1,1)\n",
    "m"
   ]
  },
  {
   "cell_type": "code",
   "execution_count": 14,
   "metadata": {},
   "outputs": [
    {
     "name": "stdout",
     "output_type": "stream",
     "text": [
      "MSE: 322172102.82947606\n"
     ]
    }
   ],
   "source": [
    "print('MSE:', metrics.mean_squared_error(Y, linreg3.predict(X)))"
   ]
  },
  {
   "cell_type": "markdown",
   "metadata": {},
   "source": [
    "By using other aditional features the MSE is reduced from 593783043.84 to 322172102.829, meaning a 45% reduction in the prediction error"
   ]
  },
  {
   "cell_type": "markdown",
   "metadata": {},
   "source": [
    "# Exercise 2.5\n",
    "\n",
    "\n",
    "Estimate a logistic regression to predict if a person is in the United States.\n",
    "\n",
    "What is the performance of the model"
   ]
  },
  {
   "cell_type": "code",
   "execution_count": 15,
   "metadata": {},
   "outputs": [
    {
     "data": {
      "text/plain": [
       "1.0    29170\n",
       "0.0     3391\n",
       "Name: isUS, dtype: int64"
      ]
     },
     "execution_count": 15,
     "metadata": {},
     "output_type": "execute_result"
    }
   ],
   "source": [
    "income['isUS'] = (income['Country'] == 'United-States')*1.0\n",
    "income['isUS'].value_counts()"
   ]
  },
  {
   "cell_type": "code",
   "execution_count": 16,
   "metadata": {},
   "outputs": [],
   "source": [
    "from sklearn.linear_model import LogisticRegression\n",
    "X=X.join(income['Income'])\n",
    "Y=income['isUS'].copy()"
   ]
  },
  {
   "cell_type": "code",
   "execution_count": 17,
   "metadata": {
    "scrolled": true
   },
   "outputs": [
    {
     "name": "stdout",
     "output_type": "stream",
     "text": [
      "Acuracy: 0.895857006848684\n",
      "precision_score  0.895857006848684\n",
      "recall_score     1.0\n",
      "f1_score     0.9450681181254151\n",
      "F_beta_score     0.9988503373891912\n",
      "AUC     0.5624397528516014\n"
     ]
    }
   ],
   "source": [
    "logi=LogisticRegression()\n",
    "logi.fit(X,Y)\n",
    "from sklearn import metrics\n",
    "from sklearn.metrics import precision_score, recall_score, f1_score, fbeta_score\n",
    "print('Acuracy: '+ str(metrics.accuracy_score(Y, logi.predict(X))))\n",
    "print('precision_score ', precision_score(Y, logi.predict(X)))\n",
    "print('recall_score    ', recall_score(Y, logi.predict(X)))\n",
    "print('f1_score    ', f1_score(Y, logi.predict(X)))\n",
    "print('F_beta_score    ', fbeta_score(Y, logi.predict(X),beta=10))\n",
    "print('AUC    ', metrics.roc_auc_score(Y, logi.predict_proba(X)[:,1]))"
   ]
  },
  {
   "cell_type": "markdown",
   "metadata": {},
   "source": [
    "The classification model has a high precision of almost 90%, a hundred percent recall score and a high precision score of 0.89. This leads to both 0.94 f1 score and 0.99 fBeta score. At first glance all of the performance indicator evaluate the model as a good classification tool, but when looking at the AUC is obvious that the model has a poor identification capacity, something observable in the conffusion matrix where the model is always predicting a location in the US due to the unbalancing in the sample."
   ]
  },
  {
   "cell_type": "code",
   "execution_count": 18,
   "metadata": {},
   "outputs": [],
   "source": [
    "import itertools\n",
    "def plot_confusion_matrix(cm, classes,\n",
    "                          normalize=False,\n",
    "                          title='Confusion matrix',\n",
    "                          cmap=plt.cm.Blues):\n",
    "    \"\"\"\n",
    "    This function prints and plots the confusion matrix.\n",
    "    Normalization can be applied by setting `normalize=True`.\n",
    "    \"\"\"\n",
    "    if normalize:\n",
    "        cm = cm.astype('float') / cm.sum(axis=1)[:, np.newaxis]\n",
    "        print(\"Normalized confusion matrix\")\n",
    "    else:\n",
    "        print('Confusion matrix, without normalization')\n",
    "\n",
    "    print(cm)\n",
    "\n",
    "    plt.imshow(cm, interpolation='nearest', cmap=cmap)\n",
    "    plt.title(title)\n",
    "    plt.colorbar()\n",
    "    tick_marks = np.arange(len(classes))\n",
    "    plt.xticks(tick_marks, classes, rotation=45)\n",
    "    plt.yticks(tick_marks, classes)\n",
    "\n",
    "    fmt = '.2f' if normalize else 'd'\n",
    "    thresh = cm.max() / 2.\n",
    "    for i, j in itertools.product(range(cm.shape[0]), range(cm.shape[1])):\n",
    "        plt.text(j, i, format(cm[i, j], fmt),\n",
    "                 horizontalalignment=\"center\",\n",
    "                 color=\"white\" if cm[i, j] > thresh else \"black\")\n",
    "\n",
    "    plt.tight_layout()\n",
    "    plt.ylabel('True label')\n",
    "    plt.xlabel('Predicted label')"
   ]
  },
  {
   "cell_type": "code",
   "execution_count": 19,
   "metadata": {},
   "outputs": [
    {
     "name": "stdout",
     "output_type": "stream",
     "text": [
      "Confusion matrix, without normalization\n",
      "[[    0  3391]\n",
      " [    0 29170]]\n"
     ]
    },
    {
     "data": {
      "image/png": "[encoded data removed]",
      "text/plain": [
       "<Figure size 432x288 with 2 Axes>"
      ]
     },
     "metadata": {},
     "output_type": "display_data"
    }
   ],
   "source": [
    "np.set_printoptions(precision=2)\n",
    "plot_confusion_matrix(metrics.confusion_matrix(Y,logi.predict(X)), classes=['NoUS','IsUS'],title='Confusion matrix, without normalization')"
   ]
  }
 ],
 "metadata": {
  "kernelspec": {
   "display_name": "Python 3",
   "language": "python",
   "name": "python3"
  },
  "language_info": {
   "codemirror_mode": {
    "name": "ipython",
    "version": 3
   },
   "file_extension": ".py",
   "mimetype": "text/x-python",
   "name": "python",
   "nbconvert_exporter": "python",
   "pygments_lexer": "ipython3",
   "version": "3.6.5"
  }
 },
 "nbformat": 4,
 "nbformat_minor": 2
}
